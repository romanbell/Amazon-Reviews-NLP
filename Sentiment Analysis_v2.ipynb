{
 "cells": [
  {
   "cell_type": "markdown",
   "metadata": {},
   "source": [
    "# 0: Install Dependencies"
   ]
  },
  {
   "cell_type": "code",
   "execution_count": 1,
   "metadata": {},
   "outputs": [],
   "source": [
    "import pandas as pd\n",
    "import datetime\n",
    "import numpy as np\n",
    "\n",
    "\n",
    "# from matplotlib.backends.backend_pgf import FigureCanvasPgf\n",
    "import matplotlib.pyplot as plt\n",
    "import matplotlib\n",
    "\n",
    "import spacy\n",
    " \n",
    "from langdetect import detect\n",
    "import string\n",
    "import nltk\n",
    "from nltk.stem import WordNetLemmatizer \n",
    "from nltk.corpus import wordnet\n",
    "from nltk.corpus import stopwords\n",
    "from nltk.tokenize import word_tokenize\n"
   ]
  },
  {
   "cell_type": "code",
   "execution_count": 2,
   "metadata": {},
   "outputs": [],
   "source": [
    "matplotlib.rcParams['mathtext.fontset'] = 'stix'\n",
    "matplotlib.rcParams['font.family'] = 'STIXGeneral'\n"
   ]
  },
  {
   "cell_type": "code",
   "execution_count": 3,
   "metadata": {},
   "outputs": [],
   "source": [
    "import warnings\n",
    "warnings.simplefilter(\"ignore\", UserWarning)"
   ]
  },
  {
   "cell_type": "code",
   "execution_count": 4,
   "metadata": {},
   "outputs": [],
   "source": [
    "# from matplotlib.backends.backend_pgf import FigureCanvasPgf\n",
    "# matplotlib.use(\"pgf\")\n",
    "# matplotlib.rcParams.update({\n",
    "#     \"pgf.texsystem\": \"pdflatex\",\n",
    "#     'font.family': 'serif',\n",
    "#     'text.usetex': True,\n",
    "#     'pgf.rcfonts': False,\n",
    "# })"
   ]
  },
  {
   "cell_type": "code",
   "execution_count": 5,
   "metadata": {},
   "outputs": [],
   "source": [
    "#https://realpython.com/sentiment-analysis-python/"
   ]
  },
  {
   "cell_type": "code",
   "execution_count": 6,
   "metadata": {},
   "outputs": [],
   "source": [
    "# nltk dependency\n",
    "# python -m nltk.downloader all"
   ]
  },
  {
   "cell_type": "markdown",
   "metadata": {},
   "source": [
    "# 1: Preprocessing "
   ]
  },
  {
   "cell_type": "markdown",
   "metadata": {},
   "source": [
    "## 1.1: Load Raw Data"
   ]
  },
  {
   "cell_type": "code",
   "execution_count": 7,
   "metadata": {
    "scrolled": true
   },
   "outputs": [],
   "source": [
    "training_df = pd.read_csv('train.csv', header=None, names=['Rating', 'Title', 'Review'])\n",
    "testing_df = pd.read_csv('test.csv', header=None, names=['Rating', 'Title', 'Review'])"
   ]
  },
  {
   "cell_type": "markdown",
   "metadata": {},
   "source": [
    "### 1.1.5: Remove Non-English Reviews"
   ]
  },
  {
   "cell_type": "markdown",
   "metadata": {},
   "source": [
    "## TODO\n",
    "    - Try to get this to work"
   ]
  },
  {
   "cell_type": "code",
   "execution_count": 8,
   "metadata": {},
   "outputs": [
    {
     "name": "stdout",
     "output_type": "stream",
     "text": [
      "Language:  en\n",
      "Language:  fr\n"
     ]
    }
   ],
   "source": [
    "print(\"Language: \", detect('Hello, simple english review because I like reviewing products in english!'))\n",
    "print(\"Language: \", detect('Avez-vous déjà vu un CD double et un DVD avec'))"
   ]
  },
  {
   "cell_type": "code",
   "execution_count": 9,
   "metadata": {},
   "outputs": [],
   "source": [
    "training_df['Language'] = detect(str(training_df['Review']))\n",
    "testing_df['Language'] = detect(str(testing_df['Review']))"
   ]
  },
  {
   "cell_type": "code",
   "execution_count": 10,
   "metadata": {},
   "outputs": [],
   "source": [
    "# training_df.head()"
   ]
  },
  {
   "cell_type": "code",
   "execution_count": 11,
   "metadata": {},
   "outputs": [],
   "source": [
    "# testing_df.head()"
   ]
  },
  {
   "cell_type": "code",
   "execution_count": 12,
   "metadata": {},
   "outputs": [],
   "source": [
    "non_english_mask = (training_df['Language'] == 'en')\n",
    "training_df = training_df[non_english_mask]\n",
    "\n",
    "non_english_mast = (testing_df['Language'] == 'en')\n",
    "testing_df = testing_df[non_english_mask]"
   ]
  },
  {
   "cell_type": "code",
   "execution_count": 13,
   "metadata": {},
   "outputs": [
    {
     "data": {
      "text/plain": [
       "array(['en'], dtype=object)"
      ]
     },
     "execution_count": 13,
     "metadata": {},
     "output_type": "execute_result"
    }
   ],
   "source": [
    "training_df['Language'].unique()"
   ]
  },
  {
   "cell_type": "code",
   "execution_count": 14,
   "metadata": {},
   "outputs": [
    {
     "data": {
      "text/plain": [
       "array(['en'], dtype=object)"
      ]
     },
     "execution_count": 14,
     "metadata": {},
     "output_type": "execute_result"
    }
   ],
   "source": [
    "testing_df['Language'].unique()"
   ]
  },
  {
   "cell_type": "code",
   "execution_count": 15,
   "metadata": {},
   "outputs": [
    {
     "data": {
      "text/plain": [
       "3000000"
      ]
     },
     "execution_count": 15,
     "metadata": {},
     "output_type": "execute_result"
    }
   ],
   "source": [
    "len(training_df)"
   ]
  },
  {
   "cell_type": "code",
   "execution_count": 16,
   "metadata": {},
   "outputs": [
    {
     "data": {
      "text/plain": [
       "650000"
      ]
     },
     "execution_count": 16,
     "metadata": {},
     "output_type": "execute_result"
    }
   ],
   "source": [
    "len(testing_df)"
   ]
  },
  {
   "cell_type": "markdown",
   "metadata": {},
   "source": [
    "Evaluate Rating Distribution"
   ]
  },
  {
   "cell_type": "code",
   "execution_count": 17,
   "metadata": {},
   "outputs": [
    {
     "name": "stdout",
     "output_type": "stream",
     "text": [
      "[3 5 4 1 2]\n"
     ]
    }
   ],
   "source": [
    "print(training_df['Rating'].unique())"
   ]
  },
  {
   "cell_type": "code",
   "execution_count": 18,
   "metadata": {},
   "outputs": [],
   "source": [
    "# import pdflatex\n",
    "from matplotlib.backends import backend_pgf\n",
    "# matplotlib.use('pgf')\n",
    "# plt.rc('pgf', texsystem='pdflatex')"
   ]
  },
  {
   "cell_type": "code",
   "execution_count": 19,
   "metadata": {},
   "outputs": [
    {
     "data": {
      "image/png": "[encoded data removed]",
      "text/plain": [
       "<Figure size 432x288 with 1 Axes>"
      ]
     },
     "metadata": {
      "needs_background": "light"
     },
     "output_type": "display_data"
    }
   ],
   "source": [
    "plt.title('Total Ratings - Training')\n",
    "training_df['Rating'].value_counts().plot.bar()\n",
    "# plt.savefig('Ratings Distribution.png')\n",
    "# plt.savefig('Ratings Distribution.pgf', format = 'pgf')\n",
    "# plt.savefig('Ratings Distribution.pdf')\n",
    "\n",
    "\n",
    "# import tikzplotlib\n",
    "# tikzplotlib.save(\"Ratings Distribution.tex\")\n",
    "\n",
    "plt.show()"
   ]
  },
  {
   "cell_type": "code",
   "execution_count": 20,
   "metadata": {},
   "outputs": [],
   "source": [
    "# testing_df['Rating'].value_counts().plot.bar()\n",
    "# plt.show()"
   ]
  },
  {
   "cell_type": "markdown",
   "metadata": {},
   "source": [
    "Evaluate Length of Reviews"
   ]
  },
  {
   "cell_type": "code",
   "execution_count": 21,
   "metadata": {},
   "outputs": [
    {
     "data": {
      "image/png": "[encoded data removed]",
      "text/plain": [
       "<Figure size 432x288 with 1 Axes>"
      ]
     },
     "metadata": {
      "needs_background": "light"
     },
     "output_type": "display_data"
    }
   ],
   "source": [
    "plt.title(\"Length of Review Characters\")\n",
    "testing_df['Review'].str.len().plot.hist(bins = 10)\n",
    "plt.xticks(np.linspace(0, 1000, 11))\n",
    "# plt.savefig('Review Length Hist.png')\n",
    "# plt.savefig('Review Length Hist.pdf')\n",
    "plt.show()"
   ]
  },
  {
   "cell_type": "markdown",
   "metadata": {},
   "source": [
    "# 1.2: Tokenization (sentence vs word tokenization)\n",
    "- Tokenize each element in 'review' column\n",
    "- Filter out symbols\n",
    "- Filter out stop words"
   ]
  },
  {
   "cell_type": "code",
   "execution_count": 22,
   "metadata": {},
   "outputs": [
    {
     "data": {
      "text/plain": [
       "'This model may be ok for sedentary types but Im active and get around alot in my job  consistently found these stockings rolled up down by my ankles Not Good Solution go with the standard compression stocking 2030 stock 114622 Excellent support stays up and gives me what I need Both pair of these also tore as I struggled to pull them up all the time Good riddancebad investment '"
      ]
     },
     "execution_count": 22,
     "metadata": {},
     "output_type": "execute_result"
    }
   ],
   "source": [
    "def remove_punc(text):\n",
    "    result_text = text.translate(str.maketrans('', '', string.punctuation))\n",
    "    return result_text\n",
    "\n",
    "s = r'This model may be ok for sedentary types, but I\\'m active and get around alot in my job - consistently found these stockings rolled up down by my ankles! Not Good!! Solution: go with the standard compression stocking, 20-30, stock #114622. Excellent support, stays up and gives me what I need. Both pair of these also tore as I struggled to pull them up all the time. Good riddance/bad investment! '\n",
    "remove_punc(s)"
   ]
  },
  {
   "cell_type": "code",
   "execution_count": 23,
   "metadata": {},
   "outputs": [
    {
     "data": {
      "text/plain": [
       "'This model may be ok for sedentary types but Im active and get around alot in my job  consistently found these stockings rolled up down by my ankles Not Good Solution go with the standard compression stocking  stock  Excellent support stays up and gives me what I need Both pair of these also tore as I struggled to pull them up all the time Good riddancebad investment '"
      ]
     },
     "execution_count": 23,
     "metadata": {},
     "output_type": "execute_result"
    }
   ],
   "source": [
    "def remove_nums(text):\n",
    "    result_text = ''.join([i for i in text if not i.isdigit()])\n",
    "    return result_text\n",
    "\n",
    "remove_nums(remove_punc(s))"
   ]
  },
  {
   "cell_type": "code",
   "execution_count": 24,
   "metadata": {},
   "outputs": [
    {
     "data": {
      "text/plain": [
       "'This model may be ok for sedentary types but Im active and get around alot in my job consistently found these stockings rolled up down by my ankles Not Good Solution go with the standard compression stocking stock Excellent support stays up and gives me what I need Both pair of these also tore as I struggled to pull them up all the time Good riddancebad investment '"
      ]
     },
     "execution_count": 24,
     "metadata": {},
     "output_type": "execute_result"
    }
   ],
   "source": [
    "import re\n",
    "def remove_spaces(text):\n",
    "    result_text = re.sub(' +', ' ', text)\n",
    "    return result_text\n",
    "\n",
    "remove_spaces(remove_nums(remove_punc(s)))"
   ]
  },
  {
   "cell_type": "code",
   "execution_count": 25,
   "metadata": {},
   "outputs": [
    {
     "data": {
      "text/plain": [
       "'this model may be ok for sedentary types but im active and get around alot in my job consistently found these stockings rolled up down by my ankles not good solution go with the standard compression stocking stock excellent support stays up and gives me what i need both pair of these also tore as i struggled to pull them up all the time good riddancebad investment '"
      ]
     },
     "execution_count": 25,
     "metadata": {},
     "output_type": "execute_result"
    }
   ],
   "source": [
    "remove_spaces(remove_nums(remove_punc(s))).lower()"
   ]
  },
  {
   "cell_type": "code",
   "execution_count": 26,
   "metadata": {},
   "outputs": [
    {
     "data": {
      "text/plain": [
       "'model ok sedentary types m active alot job consistently found stockings rolled ankles good solution standard compression stocking stock excellent support stays gives need pair tore struggled pull time good riddancebad investment'"
      ]
     },
     "execution_count": 26,
     "metadata": {},
     "output_type": "execute_result"
    }
   ],
   "source": [
    "def remove_stop_words(text):\n",
    "\n",
    "    r_start_time = datetime.datetime.now()\n",
    "    \n",
    "    nlp = spacy.load('en_core_web_sm')\n",
    "    text_list = nlp(text)\n",
    "    \n",
    "#     stop_list = ['a', 'an', 'and', 'are', 'as', 'at', 'be', 'but', 'by', 'for', 'if', 'in', 'into', 'is', 'it', 'no', 'not',\n",
    "#                  'of', 'on', 'or', 'such', 'that', 'the', 'their', 'then', 'there', 'these', 'they', 'this', 'to', 'was', \n",
    "#                  'will', 'with']\n",
    "    \n",
    "    temp_list = []\n",
    "    for token in text_list:\n",
    "        if not token.is_stop:\n",
    "            temp_list.append(token)\n",
    "    \n",
    "    str_output = ' '.join([str(elem) for elem in temp_list])\n",
    "\n",
    "    r_end_time = datetime.datetime.now()\n",
    "#     print('remove_stop_words runtime: ', r_end_time - r_start_time)\n",
    "    \n",
    "    return str_output    \n",
    "    \n",
    "remove_stop_words(remove_spaces(remove_nums(remove_punc(s))).lower())"
   ]
  },
  {
   "cell_type": "code",
   "execution_count": 27,
   "metadata": {},
   "outputs": [],
   "source": [
    "def remove_stop_words_nltk(text):\n",
    "#     r_start_time = datetime.datetime.now()\n",
    "    \n",
    "    all_stopwords = stopwords.words('english')\n",
    "    all_stopwords.append('play')\n",
    "\n",
    "    text_tokens = word_tokenize(text)\n",
    "    tokens_without_sw = [word for word in text_tokens if not word in all_stopwords]\n",
    "#     str_output = ' '.join([str(elem) for elem in tokens_without_sw]) #Working\n",
    "\n",
    "    # Maybe not working \n",
    "    str_output = ' '.join([str(elem) for elem in tokens_without_sw if not len(elem) < 2])\n",
    "    \n",
    "    \n",
    "    \n",
    "#     r_end_time = datetime.datetime.now()\n",
    "#     print('\\n Runtime: ', r_end_time - r_start_time)\n",
    "    \n",
    "#     print(str_output)\n",
    "    return(str_output)\n",
    "    \n",
    "# remove_stop_words_nltk(s)"
   ]
  },
  {
   "cell_type": "markdown",
   "metadata": {},
   "source": [
    "# 1.3: Normalization (Root Word Extraction)\n",
    "- Stemming vs Lemmatization\n",
    "- Normalize each element in 'reviews' "
   ]
  },
  {
   "cell_type": "code",
   "execution_count": 28,
   "metadata": {},
   "outputs": [
    {
     "name": "stdout",
     "output_type": "stream",
     "text": [
      "Before Lemmatization:        The striped bats are hanging on their feet\n",
      "\n",
      "After Simple Lemmatization:  The striped bat are hanging on their foot\n",
      "\n",
      "After POS Lemmatization:     The strip bat be hang on their foot\n"
     ]
    }
   ],
   "source": [
    "\n",
    "\n",
    "\n",
    "lemmatizer = WordNetLemmatizer()\n",
    "\n",
    "def get_wordnet_pos(word):\n",
    "    \"\"\"Map POS tag to first character lemmatize() accepts\"\"\"\n",
    "    tag = nltk.pos_tag([word])[0][1][0].upper()\n",
    "    tag_dict = {\"J\": wordnet.ADJ,\n",
    "                \"N\": wordnet.NOUN,\n",
    "                \"V\": wordnet.VERB,\n",
    "                \"R\": wordnet.ADV}\n",
    "\n",
    "    return tag_dict.get(tag, wordnet.NOUN)\n",
    "\n",
    "\n",
    "def lemmatize_sentence_simple(sentence):\n",
    "    \n",
    "    temp_list = []\n",
    "    for word in nltk.word_tokenize(sentence):\n",
    "        temp_list.append(lemmatizer.lemmatize(word))\n",
    "        \n",
    "    \n",
    "    return ' '.join([str(elem) for elem in temp_list])\n",
    "\n",
    "\n",
    "def lemmatize_sentence_pos(sentence):\n",
    "    \n",
    "    temp_list = []\n",
    "    for word in nltk.word_tokenize(sentence):\n",
    "        temp_list.append(lemmatizer.lemmatize(word, get_wordnet_pos(word)))\n",
    "#         temp_list.append(lemmatizer.lemmatize(word))\n",
    "        \n",
    "    \n",
    "    return ' '.join([str(elem) for elem in temp_list])\n",
    "\n",
    "\n",
    "\n",
    "\n",
    "word = 'feet'\n",
    "# print(lemmatizer.lemmatize(word, get_wordnet_pos(word)))\n",
    "\n",
    "\n",
    "sentence = \"The striped bats are hanging on their feet\"\n",
    "\n",
    "print(\"Before Lemmatization:       \", sentence)\n",
    "print(\"\\nAfter Simple Lemmatization: \", lemmatize_sentence_simple(sentence))\n",
    "print(\"\\nAfter POS Lemmatization:    \", lemmatize_sentence_pos(sentence))"
   ]
  },
  {
   "cell_type": "code",
   "execution_count": 29,
   "metadata": {},
   "outputs": [
    {
     "name": "stdout",
     "output_type": "stream",
     "text": [
      "3.33%\n",
      "6.67%\n",
      "10.00%\n",
      "13.33%\n",
      "16.67%\n",
      "20.00%\n",
      "23.33%\n",
      "26.67%\n",
      "30.00%\n",
      "33.33%\n",
      "36.67%\n",
      "40.00%\n",
      "43.33%\n",
      "46.67%\n",
      "50.00%\n",
      "53.33%\n",
      "56.67%\n",
      "60.00%\n",
      "63.33%\n",
      "66.67%\n",
      "70.00%\n",
      "73.33%\n",
      "76.67%\n",
      "80.00%\n",
      "83.33%\n",
      "86.67%\n",
      "90.00%\n",
      "93.33%\n",
      "96.67%\n",
      "100.00%\n",
      "Wall time: 9min\n"
     ]
    }
   ],
   "source": [
    "%%time\n",
    "# Parsing\n",
    "\n",
    "def process_column(unprocessed_list, total_items):\n",
    "    output_list = []\n",
    "    count = 0\n",
    "    for item in unprocessed_list:\n",
    "        if item != ' ':            \n",
    "            #No Lemma\n",
    "#             output_list.append( remove_nums(remove_punc(remove_stop_words_nltk(item))).lower()  )\n",
    "\n",
    "\n",
    "            #Simple\n",
    "            output_list.append( remove_nums(remove_punc(lemmatize_sentence_simple(remove_stop_words_nltk(item)))).lower()  )\n",
    "\n",
    "        \n",
    "            #POS\n",
    "#             output_list.append( remove_nums(remove_punc(lemmatize_sentence_pos(remove_stop_words_nltk(item)))).lower()  )\n",
    "        \n",
    "        else:\n",
    "            output_list.append(' ')\n",
    "        \n",
    "        count += 1\n",
    "        \n",
    "        if count % 10000 == 0:\n",
    "            print(\"{:.2%}\".format(count / total_items))\n",
    "        \n",
    "    return output_list\n",
    "\n",
    "\n",
    "start_time = datetime.datetime.now()\n",
    "\n",
    "\n",
    "\n",
    "total_items = 300000\n",
    "test_raw_reviews = testing_df['Review'].tolist()\n",
    "test_processed_reviews = process_column(test_raw_reviews[:total_items], total_items)\n",
    "\n",
    "\n",
    "\n",
    "end_time = datetime.datetime.now()\n",
    "# print(\"POS Lemma, total items: \", total_items, \"\\nRuntime: \", end_time - start_time)\n",
    "# print('with POS lemma: 0:01:17.570621')\n",
    "# print('Lemma W/o POS: ')"
   ]
  },
  {
   "cell_type": "code",
   "execution_count": 30,
   "metadata": {},
   "outputs": [
    {
     "name": "stdout",
     "output_type": "stream",
     "text": [
      "Wall time: 1min 15s\n"
     ]
    }
   ],
   "source": [
    "%%time\n",
    "# tokenized_test_processed_reviews = [list(filter(lambda x: len(x) > 1, document)) for document in test_processed_reviews]\n",
    "\n",
    "from nltk.tokenize import word_tokenize\n",
    "tokenized_test_processed_reviews = []\n",
    "for doc in test_processed_reviews:\n",
    "    tokenized_test_processed_reviews.append(word_tokenize(doc))"
   ]
  },
  {
   "cell_type": "code",
   "execution_count": 31,
   "metadata": {
    "scrolled": false
   },
   "outputs": [
    {
     "name": "stdout",
     "output_type": "stream",
     "text": [
      "---------- Review 1 ----------\n",
      "Raw:  This model may be ok for sedentary types, but I'm active and get around alot in my job - consistently found these stockings rolled up down by my ankles! Not Good!! Solution: go with the standard compression stocking, 20-30, stock #114622. Excellent support, stays up and gives me what I need. Both pair of these also tore as I struggled to pull them up all the time. Good riddance/bad investment! \n",
      "\n",
      "\n",
      "Processed:  this model may ok sedentary type m active get around alot job consistently found stocking rolled ankle not good solution go standard compression stocking  stock  excellent support stay give need both pair also tore struggled pull time good riddancebad investment\n",
      "\n",
      "\n",
      "---------- Review 2 ----------\n",
      "Raw:  I bought one of these chargers..the instructions say the lights stay on while the battery charges...true. The instructions doNT say the lights turn off when its done. Which is also true. 24 hours of charging and the lights stay on. I returned it thinking I had a bad unit.The new one did the same thing. I just kept it since it does charge...but the lights are useless since they seem to always stay on. It's a \"backup\" charger for when I manage to drain all my AAs but I wouldn't want this as my only charger. \n",
      "\n",
      "\n",
      "Processed:  bought one chargersthe instruction say light stay battery charge  true the instruction dont say light turn done which also true  hour charging light stay returned thinking bad unitthe new one thing kept since charge  light useless since seem always stay it s  backup  charger manage drain aas would nt want charger\n"
     ]
    }
   ],
   "source": [
    "print('---------- Review 1 ----------')\n",
    "print('Raw: ', test_raw_reviews[0], '\\n\\n')\n",
    "print('Processed: ', test_processed_reviews[0])\n",
    "print('\\n')\n",
    "print('---------- Review 2 ----------')\n",
    "print('Raw: ', test_raw_reviews[2], '\\n\\n')\n",
    "print('Processed: ', test_processed_reviews[2])"
   ]
  },
  {
   "cell_type": "markdown",
   "metadata": {},
   "source": [
    "# 2: Vectorization\n",
    "- Vectorize each token of 'reviews' \n",
    "- Save vectorized reviews data"
   ]
  },
  {
   "cell_type": "code",
   "execution_count": 32,
   "metadata": {
    "scrolled": true
   },
   "outputs": [
    {
     "name": "stdout",
     "output_type": "stream",
     "text": [
      "only first 300000 samples of validation data\n"
     ]
    },
    {
     "data": {
      "text/html": [
       "<div>\n",
       "<style scoped>\n",
       "    .dataframe tbody tr th:only-of-type {\n",
       "        vertical-align: middle;\n",
       "    }\n",
       "\n",
       "    .dataframe tbody tr th {\n",
       "        vertical-align: top;\n",
       "    }\n",
       "\n",
       "    .dataframe thead th {\n",
       "        text-align: right;\n",
       "    }\n",
       "</style>\n",
       "<table border=\"1\" class=\"dataframe\">\n",
       "  <thead>\n",
       "    <tr style=\"text-align: right;\">\n",
       "      <th></th>\n",
       "      <th>Targets</th>\n",
       "      <th>Processed Text</th>\n",
       "    </tr>\n",
       "  </thead>\n",
       "  <tbody>\n",
       "    <tr>\n",
       "      <th>0</th>\n",
       "      <td>1</td>\n",
       "      <td>this model may ok sedentary type m active get ...</td>\n",
       "    </tr>\n",
       "    <tr>\n",
       "      <th>1</th>\n",
       "      <td>4</td>\n",
       "      <td>this fast read filled unexpected humour profou...</td>\n",
       "    </tr>\n",
       "    <tr>\n",
       "      <th>2</th>\n",
       "      <td>2</td>\n",
       "      <td>bought one chargersthe instruction say light s...</td>\n",
       "    </tr>\n",
       "    <tr>\n",
       "      <th>3</th>\n",
       "      <td>2</td>\n",
       "      <td>excited find book ostensibly muslim feminism v...</td>\n",
       "    </tr>\n",
       "    <tr>\n",
       "      <th>4</th>\n",
       "      <td>2</td>\n",
       "      <td>big jvc fan like model suspiscious saw several...</td>\n",
       "    </tr>\n",
       "  </tbody>\n",
       "</table>\n",
       "</div>"
      ],
      "text/plain": [
       "   Targets                                     Processed Text\n",
       "0        1  this model may ok sedentary type m active get ...\n",
       "1        4  this fast read filled unexpected humour profou...\n",
       "2        2  bought one chargersthe instruction say light s...\n",
       "3        2  excited find book ostensibly muslim feminism v...\n",
       "4        2  big jvc fan like model suspiscious saw several..."
      ]
     },
     "execution_count": 32,
     "metadata": {},
     "output_type": "execute_result"
    }
   ],
   "source": [
    "sample_df = pd.DataFrame()\n",
    "sample_df['Targets'] = testing_df['Rating'].tolist()[:total_items]\n",
    "sample_df['Processed Text'] = test_processed_reviews\n",
    "print(\"only first\", total_items, \"samples of validation data\")\n",
    "sample_df.head()"
   ]
  },
  {
   "cell_type": "markdown",
   "metadata": {},
   "source": [
    "Gensim Word2Vec"
   ]
  },
  {
   "cell_type": "code",
   "execution_count": 33,
   "metadata": {},
   "outputs": [
    {
     "name": "stdout",
     "output_type": "stream",
     "text": [
      "Wall time: 1min 47s\n"
     ]
    }
   ],
   "source": [
    "%%time\n",
    "import numpy as np\n",
    "\n",
    "from gensim.models import word2vec\n",
    "\n",
    "np.set_printoptions(suppress=True)\n",
    "\n",
    "feature_size = 100\n",
    "context_size = 20\n",
    "min_word = 1\n",
    "\n",
    "word_vec= word2vec.Word2Vec(tokenized_test_processed_reviews, window = context_size, min_count = min_word)"
   ]
  },
  {
   "cell_type": "code",
   "execution_count": 34,
   "metadata": {
    "scrolled": false
   },
   "outputs": [
    {
     "data": {
      "text/plain": [
       "array([[ 0.04484448,  1.2438867 ,  0.627643  , ..., -0.54987466,\n",
       "         1.2503394 ,  1.707205  ],\n",
       "       [-2.821979  ,  1.4604212 , -0.05182079, ...,  0.890775  ,\n",
       "        -2.3897157 ,  2.659595  ],\n",
       "       [-0.3529121 ,  3.4988892 ,  1.9100258 , ..., -1.1311826 ,\n",
       "         1.8933047 , -1.7715224 ],\n",
       "       ...,\n",
       "       [-0.02807735,  0.05268098,  0.02409236, ..., -0.05166391,\n",
       "        -0.01782141,  0.03205235],\n",
       "       [-0.0401679 ,  0.06618406,  0.02759699, ..., -0.06457938,\n",
       "        -0.02519818,  0.04905988],\n",
       "       [ 0.05756871,  0.00289253,  0.001464  , ..., -0.03372742,\n",
       "        -0.00437568,  0.02217681]], dtype=float32)"
      ]
     },
     "execution_count": 34,
     "metadata": {},
     "output_type": "execute_result"
    }
   ],
   "source": [
    "word_vec.wv.vectors"
   ]
  },
  {
   "cell_type": "code",
   "execution_count": 35,
   "metadata": {},
   "outputs": [
    {
     "data": {
      "text/html": [
       "<div>\n",
       "<style scoped>\n",
       "    .dataframe tbody tr th:only-of-type {\n",
       "        vertical-align: middle;\n",
       "    }\n",
       "\n",
       "    .dataframe tbody tr th {\n",
       "        vertical-align: top;\n",
       "    }\n",
       "\n",
       "    .dataframe thead th {\n",
       "        text-align: right;\n",
       "    }\n",
       "</style>\n",
       "<table border=\"1\" class=\"dataframe\">\n",
       "  <thead>\n",
       "    <tr style=\"text-align: right;\">\n",
       "      <th></th>\n",
       "      <th>0</th>\n",
       "      <th>1</th>\n",
       "      <th>2</th>\n",
       "      <th>3</th>\n",
       "      <th>4</th>\n",
       "      <th>5</th>\n",
       "      <th>6</th>\n",
       "      <th>7</th>\n",
       "      <th>8</th>\n",
       "      <th>9</th>\n",
       "      <th>...</th>\n",
       "      <th>90</th>\n",
       "      <th>91</th>\n",
       "      <th>92</th>\n",
       "      <th>93</th>\n",
       "      <th>94</th>\n",
       "      <th>95</th>\n",
       "      <th>96</th>\n",
       "      <th>97</th>\n",
       "      <th>98</th>\n",
       "      <th>99</th>\n",
       "    </tr>\n",
       "  </thead>\n",
       "  <tbody>\n",
       "    <tr>\n",
       "      <th>s</th>\n",
       "      <td>0.044844</td>\n",
       "      <td>1.243887</td>\n",
       "      <td>0.627643</td>\n",
       "      <td>2.210887</td>\n",
       "      <td>1.953139</td>\n",
       "      <td>3.358353</td>\n",
       "      <td>2.355853</td>\n",
       "      <td>2.215579</td>\n",
       "      <td>0.057515</td>\n",
       "      <td>0.273206</td>\n",
       "      <td>...</td>\n",
       "      <td>0.469904</td>\n",
       "      <td>0.070242</td>\n",
       "      <td>0.560966</td>\n",
       "      <td>0.326869</td>\n",
       "      <td>0.483059</td>\n",
       "      <td>-1.061983</td>\n",
       "      <td>-1.517684</td>\n",
       "      <td>-0.549875</td>\n",
       "      <td>1.250339</td>\n",
       "      <td>1.707205</td>\n",
       "    </tr>\n",
       "    <tr>\n",
       "      <th>book</th>\n",
       "      <td>-2.821979</td>\n",
       "      <td>1.460421</td>\n",
       "      <td>-0.051821</td>\n",
       "      <td>4.951419</td>\n",
       "      <td>5.105778</td>\n",
       "      <td>-3.496820</td>\n",
       "      <td>-2.384452</td>\n",
       "      <td>0.325842</td>\n",
       "      <td>-1.249351</td>\n",
       "      <td>-3.221055</td>\n",
       "      <td>...</td>\n",
       "      <td>-1.344457</td>\n",
       "      <td>-0.546418</td>\n",
       "      <td>4.503329</td>\n",
       "      <td>0.940096</td>\n",
       "      <td>-0.758670</td>\n",
       "      <td>-1.174764</td>\n",
       "      <td>3.289161</td>\n",
       "      <td>0.890775</td>\n",
       "      <td>-2.389716</td>\n",
       "      <td>2.659595</td>\n",
       "    </tr>\n",
       "    <tr>\n",
       "      <th>the</th>\n",
       "      <td>-0.352912</td>\n",
       "      <td>3.498889</td>\n",
       "      <td>1.910026</td>\n",
       "      <td>-0.046321</td>\n",
       "      <td>0.186846</td>\n",
       "      <td>2.337099</td>\n",
       "      <td>-2.290996</td>\n",
       "      <td>2.862715</td>\n",
       "      <td>2.004858</td>\n",
       "      <td>1.254121</td>\n",
       "      <td>...</td>\n",
       "      <td>0.020948</td>\n",
       "      <td>-0.374582</td>\n",
       "      <td>0.253494</td>\n",
       "      <td>-0.168774</td>\n",
       "      <td>-2.251514</td>\n",
       "      <td>1.514446</td>\n",
       "      <td>-1.513568</td>\n",
       "      <td>-1.131183</td>\n",
       "      <td>1.893305</td>\n",
       "      <td>-1.771522</td>\n",
       "    </tr>\n",
       "    <tr>\n",
       "      <th>nt</th>\n",
       "      <td>-3.254736</td>\n",
       "      <td>3.867960</td>\n",
       "      <td>-0.252543</td>\n",
       "      <td>5.231812</td>\n",
       "      <td>1.413649</td>\n",
       "      <td>0.614495</td>\n",
       "      <td>-0.941885</td>\n",
       "      <td>0.449375</td>\n",
       "      <td>1.805213</td>\n",
       "      <td>2.373670</td>\n",
       "      <td>...</td>\n",
       "      <td>-3.570028</td>\n",
       "      <td>-5.402641</td>\n",
       "      <td>-0.562794</td>\n",
       "      <td>1.966479</td>\n",
       "      <td>1.505659</td>\n",
       "      <td>-3.209986</td>\n",
       "      <td>1.457039</td>\n",
       "      <td>-2.610500</td>\n",
       "      <td>-1.554656</td>\n",
       "      <td>-0.346315</td>\n",
       "    </tr>\n",
       "    <tr>\n",
       "      <th>one</th>\n",
       "      <td>-0.343731</td>\n",
       "      <td>0.190942</td>\n",
       "      <td>-0.190563</td>\n",
       "      <td>0.290132</td>\n",
       "      <td>-0.139181</td>\n",
       "      <td>1.138931</td>\n",
       "      <td>-2.227344</td>\n",
       "      <td>3.052621</td>\n",
       "      <td>-1.792296</td>\n",
       "      <td>-0.227356</td>\n",
       "      <td>...</td>\n",
       "      <td>1.384538</td>\n",
       "      <td>-3.003447</td>\n",
       "      <td>1.526671</td>\n",
       "      <td>-1.437287</td>\n",
       "      <td>-0.263723</td>\n",
       "      <td>-2.575004</td>\n",
       "      <td>-1.932705</td>\n",
       "      <td>1.600246</td>\n",
       "      <td>1.086938</td>\n",
       "      <td>1.822513</td>\n",
       "    </tr>\n",
       "  </tbody>\n",
       "</table>\n",
       "<p>5 rows × 100 columns</p>\n",
       "</div>"
      ],
      "text/plain": [
       "            0         1         2         3         4         5         6   \\\n",
       "s     0.044844  1.243887  0.627643  2.210887  1.953139  3.358353  2.355853   \n",
       "book -2.821979  1.460421 -0.051821  4.951419  5.105778 -3.496820 -2.384452   \n",
       "the  -0.352912  3.498889  1.910026 -0.046321  0.186846  2.337099 -2.290996   \n",
       "nt   -3.254736  3.867960 -0.252543  5.231812  1.413649  0.614495 -0.941885   \n",
       "one  -0.343731  0.190942 -0.190563  0.290132 -0.139181  1.138931 -2.227344   \n",
       "\n",
       "            7         8         9   ...        90        91        92  \\\n",
       "s     2.215579  0.057515  0.273206  ...  0.469904  0.070242  0.560966   \n",
       "book  0.325842 -1.249351 -3.221055  ... -1.344457 -0.546418  4.503329   \n",
       "the   2.862715  2.004858  1.254121  ...  0.020948 -0.374582  0.253494   \n",
       "nt    0.449375  1.805213  2.373670  ... -3.570028 -5.402641 -0.562794   \n",
       "one   3.052621 -1.792296 -0.227356  ...  1.384538 -3.003447  1.526671   \n",
       "\n",
       "            93        94        95        96        97        98        99  \n",
       "s     0.326869  0.483059 -1.061983 -1.517684 -0.549875  1.250339  1.707205  \n",
       "book  0.940096 -0.758670 -1.174764  3.289161  0.890775 -2.389716  2.659595  \n",
       "the  -0.168774 -2.251514  1.514446 -1.513568 -1.131183  1.893305 -1.771522  \n",
       "nt    1.966479  1.505659 -3.209986  1.457039 -2.610500 -1.554656 -0.346315  \n",
       "one  -1.437287 -0.263723 -2.575004 -1.932705  1.600246  1.086938  1.822513  \n",
       "\n",
       "[5 rows x 100 columns]"
      ]
     },
     "metadata": {},
     "output_type": "display_data"
    }
   ],
   "source": [
    "word_vec_df = pd.DataFrame(word_vec.wv.vectors, index= word_vec.wv.index_to_key)\n",
    "\n",
    "display(word_vec_df.head())"
   ]
  },
  {
   "cell_type": "code",
   "execution_count": 36,
   "metadata": {},
   "outputs": [
    {
     "name": "stdout",
     "output_type": "stream",
     "text": [
      "Wall time: 3min 41s\n"
     ]
    }
   ],
   "source": [
    "%%time\n",
    "tokenized_array = np.array(tokenized_test_processed_reviews)\n",
    "\n",
    "model_array = np.array([word_vec_df.loc[doc].mean(axis=0) for doc in tokenized_array])"
   ]
  },
  {
   "cell_type": "code",
   "execution_count": 37,
   "metadata": {},
   "outputs": [
    {
     "data": {
      "text/html": [
       "<div>\n",
       "<style scoped>\n",
       "    .dataframe tbody tr th:only-of-type {\n",
       "        vertical-align: middle;\n",
       "    }\n",
       "\n",
       "    .dataframe tbody tr th {\n",
       "        vertical-align: top;\n",
       "    }\n",
       "\n",
       "    .dataframe thead th {\n",
       "        text-align: right;\n",
       "    }\n",
       "</style>\n",
       "<table border=\"1\" class=\"dataframe\">\n",
       "  <thead>\n",
       "    <tr style=\"text-align: right;\">\n",
       "      <th></th>\n",
       "      <th>0</th>\n",
       "      <th>1</th>\n",
       "      <th>2</th>\n",
       "      <th>3</th>\n",
       "      <th>4</th>\n",
       "      <th>5</th>\n",
       "      <th>6</th>\n",
       "      <th>7</th>\n",
       "      <th>8</th>\n",
       "      <th>9</th>\n",
       "      <th>...</th>\n",
       "      <th>91</th>\n",
       "      <th>92</th>\n",
       "      <th>93</th>\n",
       "      <th>94</th>\n",
       "      <th>95</th>\n",
       "      <th>96</th>\n",
       "      <th>97</th>\n",
       "      <th>98</th>\n",
       "      <th>99</th>\n",
       "      <th>Targets</th>\n",
       "    </tr>\n",
       "  </thead>\n",
       "  <tbody>\n",
       "    <tr>\n",
       "      <th>0</th>\n",
       "      <td>-0.641449</td>\n",
       "      <td>1.143364</td>\n",
       "      <td>0.254346</td>\n",
       "      <td>0.338410</td>\n",
       "      <td>0.230379</td>\n",
       "      <td>0.642534</td>\n",
       "      <td>-0.723454</td>\n",
       "      <td>0.026929</td>\n",
       "      <td>0.142740</td>\n",
       "      <td>0.082440</td>\n",
       "      <td>...</td>\n",
       "      <td>-0.863451</td>\n",
       "      <td>-0.208217</td>\n",
       "      <td>-0.756408</td>\n",
       "      <td>0.174320</td>\n",
       "      <td>0.053941</td>\n",
       "      <td>0.101426</td>\n",
       "      <td>0.005719</td>\n",
       "      <td>0.020066</td>\n",
       "      <td>0.009232</td>\n",
       "      <td>1</td>\n",
       "    </tr>\n",
       "    <tr>\n",
       "      <th>1</th>\n",
       "      <td>-0.015012</td>\n",
       "      <td>0.852366</td>\n",
       "      <td>0.035829</td>\n",
       "      <td>-0.225933</td>\n",
       "      <td>1.107216</td>\n",
       "      <td>-1.264626</td>\n",
       "      <td>0.661152</td>\n",
       "      <td>1.074308</td>\n",
       "      <td>0.090731</td>\n",
       "      <td>-2.026044</td>\n",
       "      <td>...</td>\n",
       "      <td>0.697520</td>\n",
       "      <td>0.550685</td>\n",
       "      <td>0.907980</td>\n",
       "      <td>0.870545</td>\n",
       "      <td>-0.020566</td>\n",
       "      <td>-0.024440</td>\n",
       "      <td>-0.087835</td>\n",
       "      <td>-0.002819</td>\n",
       "      <td>0.382641</td>\n",
       "      <td>4</td>\n",
       "    </tr>\n",
       "    <tr>\n",
       "      <th>2</th>\n",
       "      <td>-1.361268</td>\n",
       "      <td>1.667635</td>\n",
       "      <td>0.080353</td>\n",
       "      <td>-0.021510</td>\n",
       "      <td>-0.784869</td>\n",
       "      <td>-1.047745</td>\n",
       "      <td>-0.147985</td>\n",
       "      <td>0.574432</td>\n",
       "      <td>0.406933</td>\n",
       "      <td>1.241578</td>\n",
       "      <td>...</td>\n",
       "      <td>-1.428751</td>\n",
       "      <td>-0.585887</td>\n",
       "      <td>-0.536496</td>\n",
       "      <td>-0.039325</td>\n",
       "      <td>-0.009230</td>\n",
       "      <td>0.064585</td>\n",
       "      <td>-0.107795</td>\n",
       "      <td>1.089768</td>\n",
       "      <td>1.044646</td>\n",
       "      <td>2</td>\n",
       "    </tr>\n",
       "    <tr>\n",
       "      <th>3</th>\n",
       "      <td>-0.146818</td>\n",
       "      <td>0.286037</td>\n",
       "      <td>0.659895</td>\n",
       "      <td>0.418763</td>\n",
       "      <td>0.684480</td>\n",
       "      <td>-0.351201</td>\n",
       "      <td>-0.321191</td>\n",
       "      <td>0.918262</td>\n",
       "      <td>-0.223338</td>\n",
       "      <td>-0.540295</td>\n",
       "      <td>...</td>\n",
       "      <td>-1.127338</td>\n",
       "      <td>0.876599</td>\n",
       "      <td>0.122264</td>\n",
       "      <td>0.186945</td>\n",
       "      <td>0.334065</td>\n",
       "      <td>-0.362565</td>\n",
       "      <td>-0.009713</td>\n",
       "      <td>-0.229069</td>\n",
       "      <td>-0.146436</td>\n",
       "      <td>2</td>\n",
       "    </tr>\n",
       "    <tr>\n",
       "      <th>4</th>\n",
       "      <td>-1.148019</td>\n",
       "      <td>0.875126</td>\n",
       "      <td>-0.515554</td>\n",
       "      <td>0.739369</td>\n",
       "      <td>-0.726676</td>\n",
       "      <td>0.236998</td>\n",
       "      <td>-0.087368</td>\n",
       "      <td>0.189872</td>\n",
       "      <td>-0.351916</td>\n",
       "      <td>0.218884</td>\n",
       "      <td>...</td>\n",
       "      <td>-1.386833</td>\n",
       "      <td>-0.270273</td>\n",
       "      <td>-0.261253</td>\n",
       "      <td>-0.354267</td>\n",
       "      <td>0.419798</td>\n",
       "      <td>-1.037852</td>\n",
       "      <td>-0.223329</td>\n",
       "      <td>0.949568</td>\n",
       "      <td>0.347336</td>\n",
       "      <td>2</td>\n",
       "    </tr>\n",
       "  </tbody>\n",
       "</table>\n",
       "<p>5 rows × 101 columns</p>\n",
       "</div>"
      ],
      "text/plain": [
       "          0         1         2         3         4         5         6  \\\n",
       "0 -0.641449  1.143364  0.254346  0.338410  0.230379  0.642534 -0.723454   \n",
       "1 -0.015012  0.852366  0.035829 -0.225933  1.107216 -1.264626  0.661152   \n",
       "2 -1.361268  1.667635  0.080353 -0.021510 -0.784869 -1.047745 -0.147985   \n",
       "3 -0.146818  0.286037  0.659895  0.418763  0.684480 -0.351201 -0.321191   \n",
       "4 -1.148019  0.875126 -0.515554  0.739369 -0.726676  0.236998 -0.087368   \n",
       "\n",
       "          7         8         9  ...        91        92        93        94  \\\n",
       "0  0.026929  0.142740  0.082440  ... -0.863451 -0.208217 -0.756408  0.174320   \n",
       "1  1.074308  0.090731 -2.026044  ...  0.697520  0.550685  0.907980  0.870545   \n",
       "2  0.574432  0.406933  1.241578  ... -1.428751 -0.585887 -0.536496 -0.039325   \n",
       "3  0.918262 -0.223338 -0.540295  ... -1.127338  0.876599  0.122264  0.186945   \n",
       "4  0.189872 -0.351916  0.218884  ... -1.386833 -0.270273 -0.261253 -0.354267   \n",
       "\n",
       "         95        96        97        98        99  Targets  \n",
       "0  0.053941  0.101426  0.005719  0.020066  0.009232        1  \n",
       "1 -0.020566 -0.024440 -0.087835 -0.002819  0.382641        4  \n",
       "2 -0.009230  0.064585 -0.107795  1.089768  1.044646        2  \n",
       "3  0.334065 -0.362565 -0.009713 -0.229069 -0.146436        2  \n",
       "4  0.419798 -1.037852 -0.223329  0.949568  0.347336        2  \n",
       "\n",
       "[5 rows x 101 columns]"
      ]
     },
     "execution_count": 37,
     "metadata": {},
     "output_type": "execute_result"
    }
   ],
   "source": [
    "model_df = pd.DataFrame(model_array)\n",
    "model_df[\"Targets\"] = sample_df[\"Targets\"]\n",
    "\n",
    "model_df.head()"
   ]
  },
  {
   "cell_type": "code",
   "execution_count": 38,
   "metadata": {},
   "outputs": [
    {
     "name": "stdout",
     "output_type": "stream",
     "text": [
      "iphone: ['dock' 'treo' 'ipods' 'bluetooth' 'nano']\n",
      "computer: ['pc' 'software' 'windows' 'xp' 'desktop']\n",
      "tv: ['television' 'channel' 'hbo' 'dvr' 'broadcast']\n",
      "durable: ['sturdy' 'durability' 'lightweight' 'flimsy' 'functional']\n",
      "price: ['priced' 'cost' 'pricei' 'inexpensive' 'shipping']\n",
      "terrible: ['horrible' 'awful' 'horrid' 'lousy' 'horrendous']\n",
      "fantastic: ['amazing' 'incredible' 'terrific' 'wonderful' 'fabulous']\n"
     ]
    }
   ],
   "source": [
    "word_bank = [\"iphone\", \"computer\", \"tv\", \"durable\", \"price\", \"terrible\", \"fantastic\"]\n",
    "\n",
    "for word in word_bank[:]:\n",
    "    related_vec = word_vec.wv.most_similar(word, topn=5)\n",
    "    related_words = np.array(related_vec)[:,0]\n",
    "    word_bank.extend(related_words)\n",
    "    print(f\"{word}: {related_words}\")"
   ]
  },
  {
   "cell_type": "code",
   "execution_count": null,
   "metadata": {},
   "outputs": [],
   "source": []
  },
  {
   "cell_type": "code",
   "execution_count": 45,
   "metadata": {},
   "outputs": [
    {
     "data": {
      "text/plain": [
       "(300000, 101)"
      ]
     },
     "execution_count": 45,
     "metadata": {},
     "output_type": "execute_result"
    }
   ],
   "source": [
    "model_df.shape"
   ]
  },
  {
   "cell_type": "code",
   "execution_count": 46,
   "metadata": {},
   "outputs": [
    {
     "name": "stdout",
     "output_type": "stream",
     "text": [
      "Original 'model_df' count: 300000\n",
      "Final 'model_df' count: 299999\n"
     ]
    }
   ],
   "source": [
    "#Drop NA's\n",
    "print(f\"Original 'model_df' count: {len(model_df)}\")\n",
    "print(f\"Final 'model_df' count: {len(model_df.dropna(axis=0))}\")\n",
    "\n",
    "model_df = model_df.dropna(axis=0)"
   ]
  },
  {
   "cell_type": "markdown",
   "metadata": {},
   "source": [
    "Keras Tokenizer "
   ]
  },
  {
   "cell_type": "code",
   "execution_count": 131,
   "metadata": {},
   "outputs": [],
   "source": [
    "from keras.preprocessing.text import Tokenizer\n",
    "from keras.preprocessing.sequence import pad_sequences\n",
    "\n",
    "# tokenizer = Tokenizer(num_words=5000, split=\" \")\n",
    "# tokenizer.fit_on_texts(sample_df['Processed Text'].values)\n",
    "\n",
    "# X = tokenizer.texts_to_sequences(sample_df['Processed Text'].values)\n",
    "# X = pad_sequences(X) # padding text vector so they all have the same length\n",
    "\n",
    "# y = sample_df['Targets'].tolist()"
   ]
  },
  {
   "cell_type": "code",
   "execution_count": 47,
   "metadata": {
    "scrolled": false
   },
   "outputs": [
    {
     "data": {
      "text/plain": [
       "array([[1, 0, 0, 0, 0],\n",
       "       [0, 0, 0, 1, 0],\n",
       "       [0, 1, 0, 0, 0],\n",
       "       ...,\n",
       "       [0, 0, 0, 0, 1],\n",
       "       [0, 0, 0, 0, 1],\n",
       "       [0, 0, 0, 0, 1]], dtype=uint8)"
      ]
     },
     "execution_count": 47,
     "metadata": {},
     "output_type": "execute_result"
    }
   ],
   "source": [
    "y = pd.get_dummies(sample_df['Targets']).values\n",
    "# [print(sample_df['Targets'][i], y[i]) for i in range(0,15)]\n",
    "y"
   ]
  },
  {
   "cell_type": "code",
   "execution_count": 48,
   "metadata": {},
   "outputs": [],
   "source": [
    "# y"
   ]
  },
  {
   "cell_type": "code",
   "execution_count": 49,
   "metadata": {},
   "outputs": [
    {
     "data": {
      "text/plain": [
       "array([0, 3, 1, ..., 4, 4, 4], dtype=int64)"
      ]
     },
     "execution_count": 49,
     "metadata": {},
     "output_type": "execute_result"
    }
   ],
   "source": [
    "y_values = np.argmax(y, axis=1)\n",
    "y_values"
   ]
  },
  {
   "cell_type": "markdown",
   "metadata": {},
   "source": [
    "***"
   ]
  },
  {
   "cell_type": "markdown",
   "metadata": {},
   "source": [
    "# 3: Model Selection"
   ]
  },
  {
   "cell_type": "markdown",
   "metadata": {},
   "source": [
    "# 4: Classification\n",
    "\n",
    "- \n",
    "    #### 5.1\n",
    "    - Split into training/test sets\n",
    "    - Likely 80/20\n",
    "- \n",
    "    #### 5.2\n",
    "    - Model selection\n",
    "- \n",
    "    #### 5.3\n",
    "    - Train model\n",
    "- \n",
    "    #### 5.4\n",
    "    - Evaluate performance\n",
    "- \n",
    "    #### 5.5\n",
    "    - Tweak parameters\n",
    "    - Potentially include hyperparameters\n",
    "- \n",
    "    #### 5.6\n",
    "    - Generate predictions\n",
    "    - Vector from (-1.0, 1.0)"
   ]
  },
  {
   "cell_type": "markdown",
   "metadata": {},
   "source": [
    "Dimensionality Reduction to Detect Linear Seperability, Principal Component Analysis Technique Used"
   ]
  },
  {
   "cell_type": "code",
   "execution_count": 50,
   "metadata": {
    "scrolled": false
   },
   "outputs": [
    {
     "data": {
      "text/plain": [
       "array([[ 2.32539203, -1.31732781],\n",
       "       [-4.59659534, -1.13198937],\n",
       "       [ 3.37767117, -1.16545197],\n",
       "       ...,\n",
       "       [ 3.66837185, -0.67591391],\n",
       "       [-2.02646862, -3.78112355],\n",
       "       [ 0.45039467, -0.32076783]])"
      ]
     },
     "execution_count": 50,
     "metadata": {},
     "output_type": "execute_result"
    }
   ],
   "source": [
    "from sklearn.decomposition import PCA\n",
    "pca = PCA(n_components=2)\n",
    "pca = pca.fit_transform(model_df)\n",
    "pca"
   ]
  },
  {
   "cell_type": "code",
   "execution_count": 55,
   "metadata": {},
   "outputs": [],
   "source": [
    "# sample_df['PCA_1'] = pca.T[0]\n",
    "# sample_df['PCA_2'] = pca.T[1]\n",
    "# sample_df.head()"
   ]
  },
  {
   "cell_type": "code",
   "execution_count": 54,
   "metadata": {},
   "outputs": [
    {
     "data": {
      "image/png": "[encoded data removed]",
      "text/plain": [
       "<Figure size 720x432 with 2 Axes>"
      ]
     },
     "metadata": {
      "needs_background": "light"
     },
     "output_type": "display_data"
    }
   ],
   "source": [
    "from matplotlib import cm\n",
    "from matplotlib.colors import ListedColormap, LinearSegmentedColormap\n",
    "\n",
    "plot_colors = model_df[\"Targets\"].map({1:\"blue\", 2:\"red\", 3:\"yellow\", 4:\"green\", 5:\"orange\"})\n",
    "cmap = matplotlib.colors.ListedColormap(['blue','red','yellow', 'green', 'orange'])\n",
    "c_norm = matplotlib.colors.BoundaryNorm(boundaries=[1,2,3,4,5,6], ncolors=5)\n",
    "\n",
    "\n",
    "fig, ax = plt.subplots(figsize = (10, 6))\n",
    "cax = ax.scatter(pca.T[0], pca.T[1], c = model_df[\"Targets\"].values,  s=1.5, cmap=cmap, norm=c_norm)\n",
    "fig.colorbar(cax)\n",
    "\n",
    "ax.set(title = \"PCA Scatter Plot\", xlabel = 'PCA X', ylabel = 'PCA Y')\n",
    "ax.title.set_fontsize(18)\n",
    "ax.xaxis.label.set_fontsize(14)\n",
    "ax.yaxis.label.set_fontsize(14)\n",
    "\n",
    "fig.savefig(\"PCA Scatter Plot.png\", dpi = 300)\n",
    "\n",
    "plt.show()"
   ]
  },
  {
   "cell_type": "code",
   "execution_count": 56,
   "metadata": {},
   "outputs": [],
   "source": [
    "#Gensim Data\n",
    "from sklearn.model_selection import train_test_split\n",
    "\n",
    "X = model_df.iloc[:, :-1]\n",
    "y = model_df.iloc[:, -1]\n",
    "\n",
    "X_train, X_test, y_train, y_test = train_test_split(X, y, test_size=0.35, random_state=42)"
   ]
  },
  {
   "cell_type": "code",
   "execution_count": 57,
   "metadata": {},
   "outputs": [
    {
     "data": {
      "text/html": [
       "<div>\n",
       "<style scoped>\n",
       "    .dataframe tbody tr th:only-of-type {\n",
       "        vertical-align: middle;\n",
       "    }\n",
       "\n",
       "    .dataframe tbody tr th {\n",
       "        vertical-align: top;\n",
       "    }\n",
       "\n",
       "    .dataframe thead th {\n",
       "        text-align: right;\n",
       "    }\n",
       "</style>\n",
       "<table border=\"1\" class=\"dataframe\">\n",
       "  <thead>\n",
       "    <tr style=\"text-align: right;\">\n",
       "      <th></th>\n",
       "      <th>0</th>\n",
       "      <th>1</th>\n",
       "      <th>2</th>\n",
       "      <th>3</th>\n",
       "      <th>4</th>\n",
       "      <th>5</th>\n",
       "      <th>6</th>\n",
       "      <th>7</th>\n",
       "      <th>8</th>\n",
       "      <th>9</th>\n",
       "      <th>...</th>\n",
       "      <th>90</th>\n",
       "      <th>91</th>\n",
       "      <th>92</th>\n",
       "      <th>93</th>\n",
       "      <th>94</th>\n",
       "      <th>95</th>\n",
       "      <th>96</th>\n",
       "      <th>97</th>\n",
       "      <th>98</th>\n",
       "      <th>99</th>\n",
       "    </tr>\n",
       "  </thead>\n",
       "  <tbody>\n",
       "    <tr>\n",
       "      <th>74891</th>\n",
       "      <td>0.381284</td>\n",
       "      <td>1.034992</td>\n",
       "      <td>0.549486</td>\n",
       "      <td>-0.252019</td>\n",
       "      <td>0.428671</td>\n",
       "      <td>-0.848462</td>\n",
       "      <td>-0.572619</td>\n",
       "      <td>2.602850</td>\n",
       "      <td>0.644168</td>\n",
       "      <td>-1.584531</td>\n",
       "      <td>...</td>\n",
       "      <td>0.396924</td>\n",
       "      <td>-0.920995</td>\n",
       "      <td>0.832734</td>\n",
       "      <td>-0.207533</td>\n",
       "      <td>-0.411835</td>\n",
       "      <td>-1.746161</td>\n",
       "      <td>0.735918</td>\n",
       "      <td>0.534315</td>\n",
       "      <td>0.414841</td>\n",
       "      <td>-1.234168</td>\n",
       "    </tr>\n",
       "    <tr>\n",
       "      <th>126887</th>\n",
       "      <td>-0.573089</td>\n",
       "      <td>1.042446</td>\n",
       "      <td>-0.010027</td>\n",
       "      <td>0.400111</td>\n",
       "      <td>0.461785</td>\n",
       "      <td>0.858279</td>\n",
       "      <td>0.517605</td>\n",
       "      <td>0.229007</td>\n",
       "      <td>-0.626261</td>\n",
       "      <td>0.250053</td>\n",
       "      <td>...</td>\n",
       "      <td>0.979358</td>\n",
       "      <td>-1.175300</td>\n",
       "      <td>-0.597361</td>\n",
       "      <td>-0.443311</td>\n",
       "      <td>-0.441953</td>\n",
       "      <td>0.236464</td>\n",
       "      <td>-0.607854</td>\n",
       "      <td>0.165782</td>\n",
       "      <td>-0.351409</td>\n",
       "      <td>0.443230</td>\n",
       "    </tr>\n",
       "    <tr>\n",
       "      <th>114724</th>\n",
       "      <td>-1.152001</td>\n",
       "      <td>0.956840</td>\n",
       "      <td>-0.136207</td>\n",
       "      <td>1.511028</td>\n",
       "      <td>1.048650</td>\n",
       "      <td>-0.114689</td>\n",
       "      <td>-0.905941</td>\n",
       "      <td>0.784360</td>\n",
       "      <td>-0.655787</td>\n",
       "      <td>-1.497269</td>\n",
       "      <td>...</td>\n",
       "      <td>-0.373230</td>\n",
       "      <td>-0.719766</td>\n",
       "      <td>0.488728</td>\n",
       "      <td>0.186802</td>\n",
       "      <td>-0.692409</td>\n",
       "      <td>0.019313</td>\n",
       "      <td>0.348741</td>\n",
       "      <td>-0.593697</td>\n",
       "      <td>0.237002</td>\n",
       "      <td>-0.078815</td>\n",
       "    </tr>\n",
       "    <tr>\n",
       "      <th>141270</th>\n",
       "      <td>0.205829</td>\n",
       "      <td>0.721325</td>\n",
       "      <td>1.099875</td>\n",
       "      <td>0.942174</td>\n",
       "      <td>-0.112853</td>\n",
       "      <td>0.355985</td>\n",
       "      <td>-0.492429</td>\n",
       "      <td>0.941006</td>\n",
       "      <td>-0.272353</td>\n",
       "      <td>-0.120173</td>\n",
       "      <td>...</td>\n",
       "      <td>-0.063049</td>\n",
       "      <td>-0.590093</td>\n",
       "      <td>-0.459690</td>\n",
       "      <td>0.973265</td>\n",
       "      <td>0.289630</td>\n",
       "      <td>0.221416</td>\n",
       "      <td>0.546211</td>\n",
       "      <td>-0.748901</td>\n",
       "      <td>0.480828</td>\n",
       "      <td>-1.007419</td>\n",
       "    </tr>\n",
       "    <tr>\n",
       "      <th>295194</th>\n",
       "      <td>-1.456090</td>\n",
       "      <td>2.438228</td>\n",
       "      <td>1.636042</td>\n",
       "      <td>0.726173</td>\n",
       "      <td>-2.506249</td>\n",
       "      <td>0.728848</td>\n",
       "      <td>-1.214384</td>\n",
       "      <td>-0.249545</td>\n",
       "      <td>0.145871</td>\n",
       "      <td>0.732098</td>\n",
       "      <td>...</td>\n",
       "      <td>-1.380569</td>\n",
       "      <td>-2.212698</td>\n",
       "      <td>-1.961355</td>\n",
       "      <td>-0.535398</td>\n",
       "      <td>-0.048051</td>\n",
       "      <td>0.127086</td>\n",
       "      <td>-1.030305</td>\n",
       "      <td>-1.259745</td>\n",
       "      <td>0.434837</td>\n",
       "      <td>-0.420814</td>\n",
       "    </tr>\n",
       "    <tr>\n",
       "      <th>...</th>\n",
       "      <td>...</td>\n",
       "      <td>...</td>\n",
       "      <td>...</td>\n",
       "      <td>...</td>\n",
       "      <td>...</td>\n",
       "      <td>...</td>\n",
       "      <td>...</td>\n",
       "      <td>...</td>\n",
       "      <td>...</td>\n",
       "      <td>...</td>\n",
       "      <td>...</td>\n",
       "      <td>...</td>\n",
       "      <td>...</td>\n",
       "      <td>...</td>\n",
       "      <td>...</td>\n",
       "      <td>...</td>\n",
       "      <td>...</td>\n",
       "      <td>...</td>\n",
       "      <td>...</td>\n",
       "      <td>...</td>\n",
       "      <td>...</td>\n",
       "    </tr>\n",
       "    <tr>\n",
       "      <th>119880</th>\n",
       "      <td>-1.615650</td>\n",
       "      <td>1.272740</td>\n",
       "      <td>-0.450966</td>\n",
       "      <td>1.050403</td>\n",
       "      <td>-0.047740</td>\n",
       "      <td>-0.227683</td>\n",
       "      <td>-0.834029</td>\n",
       "      <td>-0.764680</td>\n",
       "      <td>-0.527134</td>\n",
       "      <td>-0.230212</td>\n",
       "      <td>...</td>\n",
       "      <td>0.553939</td>\n",
       "      <td>-1.336433</td>\n",
       "      <td>0.441543</td>\n",
       "      <td>-0.376057</td>\n",
       "      <td>-0.108308</td>\n",
       "      <td>-1.009397</td>\n",
       "      <td>0.295209</td>\n",
       "      <td>-0.201620</td>\n",
       "      <td>0.620149</td>\n",
       "      <td>0.967295</td>\n",
       "    </tr>\n",
       "    <tr>\n",
       "      <th>259179</th>\n",
       "      <td>-0.257754</td>\n",
       "      <td>1.166221</td>\n",
       "      <td>0.733657</td>\n",
       "      <td>0.720555</td>\n",
       "      <td>0.299150</td>\n",
       "      <td>-0.123265</td>\n",
       "      <td>-0.828442</td>\n",
       "      <td>0.335867</td>\n",
       "      <td>0.492754</td>\n",
       "      <td>-0.646546</td>\n",
       "      <td>...</td>\n",
       "      <td>0.069562</td>\n",
       "      <td>-1.175779</td>\n",
       "      <td>0.016000</td>\n",
       "      <td>0.502527</td>\n",
       "      <td>0.205610</td>\n",
       "      <td>-0.688625</td>\n",
       "      <td>-0.033616</td>\n",
       "      <td>-0.026580</td>\n",
       "      <td>0.323358</td>\n",
       "      <td>-0.453320</td>\n",
       "    </tr>\n",
       "    <tr>\n",
       "      <th>131933</th>\n",
       "      <td>0.161110</td>\n",
       "      <td>1.239099</td>\n",
       "      <td>0.947235</td>\n",
       "      <td>1.147208</td>\n",
       "      <td>-0.029712</td>\n",
       "      <td>0.226145</td>\n",
       "      <td>0.785278</td>\n",
       "      <td>1.314388</td>\n",
       "      <td>-1.138183</td>\n",
       "      <td>-0.206874</td>\n",
       "      <td>...</td>\n",
       "      <td>0.753248</td>\n",
       "      <td>-1.251097</td>\n",
       "      <td>-0.738250</td>\n",
       "      <td>0.170846</td>\n",
       "      <td>-0.053710</td>\n",
       "      <td>-1.152483</td>\n",
       "      <td>-0.498299</td>\n",
       "      <td>-0.672120</td>\n",
       "      <td>0.884352</td>\n",
       "      <td>-0.382473</td>\n",
       "    </tr>\n",
       "    <tr>\n",
       "      <th>146868</th>\n",
       "      <td>-0.883461</td>\n",
       "      <td>1.357013</td>\n",
       "      <td>-0.218432</td>\n",
       "      <td>0.706551</td>\n",
       "      <td>-0.066096</td>\n",
       "      <td>-0.107997</td>\n",
       "      <td>-1.330876</td>\n",
       "      <td>0.354473</td>\n",
       "      <td>-0.326314</td>\n",
       "      <td>-0.152721</td>\n",
       "      <td>...</td>\n",
       "      <td>-0.136466</td>\n",
       "      <td>-0.749109</td>\n",
       "      <td>-0.541874</td>\n",
       "      <td>0.262736</td>\n",
       "      <td>0.716847</td>\n",
       "      <td>0.762879</td>\n",
       "      <td>-0.756585</td>\n",
       "      <td>-0.359773</td>\n",
       "      <td>1.052630</td>\n",
       "      <td>0.000537</td>\n",
       "    </tr>\n",
       "    <tr>\n",
       "      <th>121959</th>\n",
       "      <td>-0.018799</td>\n",
       "      <td>0.327006</td>\n",
       "      <td>0.111739</td>\n",
       "      <td>0.885697</td>\n",
       "      <td>-0.136137</td>\n",
       "      <td>0.337948</td>\n",
       "      <td>0.575390</td>\n",
       "      <td>1.864108</td>\n",
       "      <td>-0.517119</td>\n",
       "      <td>-0.172194</td>\n",
       "      <td>...</td>\n",
       "      <td>1.381080</td>\n",
       "      <td>-1.096186</td>\n",
       "      <td>0.158032</td>\n",
       "      <td>-0.372325</td>\n",
       "      <td>-0.138100</td>\n",
       "      <td>-0.572015</td>\n",
       "      <td>-1.307734</td>\n",
       "      <td>0.166411</td>\n",
       "      <td>0.141407</td>\n",
       "      <td>-0.092022</td>\n",
       "    </tr>\n",
       "  </tbody>\n",
       "</table>\n",
       "<p>194999 rows × 100 columns</p>\n",
       "</div>"
      ],
      "text/plain": [
       "              0         1         2         3         4         5         6   \\\n",
       "74891   0.381284  1.034992  0.549486 -0.252019  0.428671 -0.848462 -0.572619   \n",
       "126887 -0.573089  1.042446 -0.010027  0.400111  0.461785  0.858279  0.517605   \n",
       "114724 -1.152001  0.956840 -0.136207  1.511028  1.048650 -0.114689 -0.905941   \n",
       "141270  0.205829  0.721325  1.099875  0.942174 -0.112853  0.355985 -0.492429   \n",
       "295194 -1.456090  2.438228  1.636042  0.726173 -2.506249  0.728848 -1.214384   \n",
       "...          ...       ...       ...       ...       ...       ...       ...   \n",
       "119880 -1.615650  1.272740 -0.450966  1.050403 -0.047740 -0.227683 -0.834029   \n",
       "259179 -0.257754  1.166221  0.733657  0.720555  0.299150 -0.123265 -0.828442   \n",
       "131933  0.161110  1.239099  0.947235  1.147208 -0.029712  0.226145  0.785278   \n",
       "146868 -0.883461  1.357013 -0.218432  0.706551 -0.066096 -0.107997 -1.330876   \n",
       "121959 -0.018799  0.327006  0.111739  0.885697 -0.136137  0.337948  0.575390   \n",
       "\n",
       "              7         8         9   ...        90        91        92  \\\n",
       "74891   2.602850  0.644168 -1.584531  ...  0.396924 -0.920995  0.832734   \n",
       "126887  0.229007 -0.626261  0.250053  ...  0.979358 -1.175300 -0.597361   \n",
       "114724  0.784360 -0.655787 -1.497269  ... -0.373230 -0.719766  0.488728   \n",
       "141270  0.941006 -0.272353 -0.120173  ... -0.063049 -0.590093 -0.459690   \n",
       "295194 -0.249545  0.145871  0.732098  ... -1.380569 -2.212698 -1.961355   \n",
       "...          ...       ...       ...  ...       ...       ...       ...   \n",
       "119880 -0.764680 -0.527134 -0.230212  ...  0.553939 -1.336433  0.441543   \n",
       "259179  0.335867  0.492754 -0.646546  ...  0.069562 -1.175779  0.016000   \n",
       "131933  1.314388 -1.138183 -0.206874  ...  0.753248 -1.251097 -0.738250   \n",
       "146868  0.354473 -0.326314 -0.152721  ... -0.136466 -0.749109 -0.541874   \n",
       "121959  1.864108 -0.517119 -0.172194  ...  1.381080 -1.096186  0.158032   \n",
       "\n",
       "              93        94        95        96        97        98        99  \n",
       "74891  -0.207533 -0.411835 -1.746161  0.735918  0.534315  0.414841 -1.234168  \n",
       "126887 -0.443311 -0.441953  0.236464 -0.607854  0.165782 -0.351409  0.443230  \n",
       "114724  0.186802 -0.692409  0.019313  0.348741 -0.593697  0.237002 -0.078815  \n",
       "141270  0.973265  0.289630  0.221416  0.546211 -0.748901  0.480828 -1.007419  \n",
       "295194 -0.535398 -0.048051  0.127086 -1.030305 -1.259745  0.434837 -0.420814  \n",
       "...          ...       ...       ...       ...       ...       ...       ...  \n",
       "119880 -0.376057 -0.108308 -1.009397  0.295209 -0.201620  0.620149  0.967295  \n",
       "259179  0.502527  0.205610 -0.688625 -0.033616 -0.026580  0.323358 -0.453320  \n",
       "131933  0.170846 -0.053710 -1.152483 -0.498299 -0.672120  0.884352 -0.382473  \n",
       "146868  0.262736  0.716847  0.762879 -0.756585 -0.359773  1.052630  0.000537  \n",
       "121959 -0.372325 -0.138100 -0.572015 -1.307734  0.166411  0.141407 -0.092022  \n",
       "\n",
       "[194999 rows x 100 columns]"
      ]
     },
     "execution_count": 57,
     "metadata": {},
     "output_type": "execute_result"
    }
   ],
   "source": [
    "X_train"
   ]
  },
  {
   "cell_type": "code",
   "execution_count": 58,
   "metadata": {},
   "outputs": [],
   "source": [
    "# This is not required for Gensim vectorization\n",
    "from sklearn import preprocessing\n",
    "scaler = preprocessing.StandardScaler().fit(X_train)\n",
    "X_train_scaled = scaler.transform(X_train)\n",
    "# X_train_scaled\n"
   ]
  },
  {
   "cell_type": "code",
   "execution_count": 59,
   "metadata": {},
   "outputs": [],
   "source": [
    "scaler = preprocessing.StandardScaler().fit(X_test)\n",
    "X_test_scaled = scaler.transform(X_test)\n",
    "# X_test_scaled"
   ]
  },
  {
   "cell_type": "code",
   "execution_count": 60,
   "metadata": {},
   "outputs": [
    {
     "name": "stdout",
     "output_type": "stream",
     "text": [
      "(194999, 100) (194999,) (105000, 100) (105000,)\n"
     ]
    }
   ],
   "source": [
    "print(X_train.shape, y_train.shape, X_test.shape, y_test.shape)"
   ]
  },
  {
   "cell_type": "code",
   "execution_count": 61,
   "metadata": {},
   "outputs": [
    {
     "name": "stdout",
     "output_type": "stream",
     "text": [
      "Wall time: 6min 4s\n"
     ]
    }
   ],
   "source": [
    "%%time\n",
    "from sklearn.ensemble import RandomForestClassifier\n",
    "\n",
    "forest = RandomForestClassifier(n_estimators = 50, class_weight= None, criterion=\"entropy\", random_state=42)\n",
    "\n",
    "history = forest.fit(X_train, y_train)"
   ]
  },
  {
   "cell_type": "code",
   "execution_count": 62,
   "metadata": {},
   "outputs": [
    {
     "name": "stdout",
     "output_type": "stream",
     "text": [
      "Training Set Accuracy: 99.999%\n",
      "Training Set F1 Score: 1.000\n"
     ]
    }
   ],
   "source": [
    "from sklearn import metrics\n",
    "\n",
    "y_pred_train = forest.predict(X_train)\n",
    "\n",
    "train_accuracy = metrics.accuracy_score(y_train, y_pred_train)\n",
    "train_f1_score = metrics.f1_score(y_train, y_pred_train, average=\"micro\")\n",
    "\n",
    "train_precision = metrics.precision_score(y_train, y_pred_train, average = 'micro')\n",
    "train_recall = metrics.recall_score(y_train, y_pred_train, average = 'micro')\n",
    "\n",
    "print(f\"Training Set Accuracy: {train_accuracy*100:.3f}%\")\n",
    "print(f\"Training Set F1 Score: {train_f1_score:.3f}\")\n",
    "# print(f\"Training Set Precision: {train_precision:.3f}\")\n",
    "# print(f\"Training Set Recall: {train_recall:.3f}\")"
   ]
  },
  {
   "cell_type": "code",
   "execution_count": 63,
   "metadata": {},
   "outputs": [
    {
     "name": "stdout",
     "output_type": "stream",
     "text": [
      "Testing Set Accuracy: 41.276%\n",
      "Testing Set F1 Score: 0.413\n"
     ]
    }
   ],
   "source": [
    "y_pred_test = forest.predict(X_test)\n",
    "\n",
    "test_accuracy = metrics.accuracy_score(y_test, y_pred_test)\n",
    "test_f1_score = metrics.f1_score(y_test, y_pred_test, average=\"micro\")\n",
    "\n",
    "test_precision = metrics.precision_score(y_test, y_pred_test, average = 'micro')\n",
    "test_recall = metrics.recall_score(y_test, y_pred_test, average = 'micro')\n",
    "\n",
    "print(f\"Testing Set Accuracy: {test_accuracy*100:.3f}%\")\n",
    "print(f\"Testing Set F1 Score: {test_f1_score:.3f}\")\n",
    "# print(f\"Testing Set Precision: {test_precision:.3f}\")\n",
    "# print(f\"Testing Set Recall: {test_recall:.3f}\")"
   ]
  },
  {
   "cell_type": "code",
   "execution_count": 64,
   "metadata": {},
   "outputs": [
    {
     "data": {
      "image/png": "[encoded data removed]",
      "text/plain": [
       "<Figure size 864x432 with 2 Axes>"
      ]
     },
     "metadata": {
      "needs_background": "light"
     },
     "output_type": "display_data"
    }
   ],
   "source": [
    "from sklearn.metrics import confusion_matrix\n",
    "\n",
    "confusion_training = confusion_matrix(y_train, y_pred_train)\n",
    "\n",
    "confusion_training = confusion_training.astype(\"float\") / confusion_training.sum(axis=1)[:, np.newaxis]\n",
    "\n",
    "confusion_training = np.around(confusion_training, decimals=3)*100\n",
    "\n",
    "#create confusion matrix heat map\n",
    "f, axes = plt.subplots(figsize=(12,6))\n",
    "im = axes.imshow(confusion_training, interpolation=\"nearest\", cmap = plt.cm.Blues)\n",
    "\n",
    "axes.figure.colorbar(im, ax=axes)\n",
    "axes.set(title=\"Confusion Matrix: Training Data\", \\\n",
    "         xticks=np.arange(confusion_training.shape[1]), \\\n",
    "         yticks=np.arange(confusion_training.shape[0]), \\\n",
    "         xticklabels=range(1, 6), yticklabels=range(1, 6), \\\n",
    "         xlabel=\"Predicted\", ylabel=\"Truth\")\n",
    "\n",
    "axes.tick_params(axis='x', labelsize=14)\n",
    "axes.tick_params(axis='y', labelsize=14)\n",
    "axes.title.set_fontsize(20)\n",
    "axes.xaxis.label.set_fontsize(14)\n",
    "axes.yaxis.label.set_fontsize(14)\n",
    "\n",
    "\n",
    "#add clear annotations to the confusion matrix\n",
    "threshold = confusion_training.max()/1.5\n",
    "for i in range(confusion_training.shape[0]):\n",
    "    for j in range(confusion_training.shape[1]):\n",
    "        axes.text(j, i, f\"{confusion_training[i, j]:.0f}%\",\n",
    "                ha=\"center\", va=\"center\",\n",
    "                color=\"white\" if confusion_training[i, j] > threshold else \"black\")\n",
    "        \n",
    "f.tight_layout()\n",
    "plt.savefig('Random Forest Training Confusion.png', dpi = 300)\n",
    "plt.show()"
   ]
  },
  {
   "cell_type": "code",
   "execution_count": 110,
   "metadata": {},
   "outputs": [
    {
     "data": {
      "image/png": "[encoded data removed]",
      "text/plain": [
       "<Figure size 864x432 with 2 Axes>"
      ]
     },
     "metadata": {
      "needs_background": "light"
     },
     "output_type": "display_data"
    }
   ],
   "source": [
    "confusion_training = confusion_matrix(y_test, y_pred_test)\n",
    "\n",
    "confusion_training = confusion_training.astype(\"float\") / confusion_training.sum(axis=1)[:, np.newaxis]\n",
    "\n",
    "confusion_training = np.around(confusion_training, decimals=3)*100\n",
    "\n",
    "#create confusion matrix heat map\n",
    "f, axes = plt.subplots(figsize=(12,6))\n",
    "im = axes.imshow(confusion_training, interpolation=\"nearest\", cmap = plt.cm.Blues)\n",
    "\n",
    "axes.figure.colorbar(im, ax=axes)\n",
    "axes.set(title=\"Confusion Matrix: Testing Data\", \\\n",
    "         xticks=np.arange(confusion_training.shape[1]), \\\n",
    "         yticks=np.arange(confusion_training.shape[0]), \\\n",
    "         xticklabels=range(1, 6), yticklabels=range(1, 6), \\\n",
    "         xlabel=\"Predicted\", ylabel=\"Truth\")\n",
    "\n",
    "axes.tick_params(axis='x', labelsize=14)\n",
    "axes.tick_params(axis='y', labelsize=14)\n",
    "axes.title.set_fontsize(20)\n",
    "axes.xaxis.label.set_fontsize(14)\n",
    "axes.yaxis.label.set_fontsize(14)\n",
    "\n",
    "\n",
    "#add clear annotations to the confusion matrix\n",
    "threshold = confusion_training.max()/1.5\n",
    "for i in range(confusion_training.shape[0]):\n",
    "    for j in range(confusion_training.shape[1]):\n",
    "        axes.text(j, i, f\"{confusion_training[i, j]:.0f}%\",\n",
    "                ha=\"center\", va=\"center\",\n",
    "                color=\"white\" if confusion_training[i, j] > threshold else \"black\")\n",
    "        \n",
    "f.tight_layout()\n",
    "plt.savefig('Random Forest Testing Confusion.png', dpi = 300)\n",
    "plt.show()"
   ]
  },
  {
   "cell_type": "code",
   "execution_count": 66,
   "metadata": {},
   "outputs": [
    {
     "name": "stdout",
     "output_type": "stream",
     "text": [
      "Wall time: 22min 28s\n"
     ]
    }
   ],
   "source": [
    "%%time\n",
    "from sklearn.model_selection import cross_val_score\n",
    "\n",
    "cross_val_accuracy = cross_val_score(forest, X_train, y_train, cv=3, scoring=\"accuracy\")\n",
    "cross_val_f1 = cross_val_score(forest, X_train, y_train, cv=3, scoring=\"f1_micro\")\n",
    "\n",
    "print(cross_val_accuracy)\n",
    "print(cross_val_f1)\n",
    "\n",
    "cross_val_accuracy = np.mean(cross_val_accuracy)\n",
    "cross_val_f1 = np.mean(cross_val_f1)\n",
    "\n",
    "print(f\"Training Set Accuracy: {cross_val_accuracy*100:.3f}%\")\n",
    "print(f\"Training Set F1 Score: {cross_val_f1:.3f}\")\n"
   ]
  },
  {
   "cell_type": "markdown",
   "metadata": {},
   "source": [
    "ANN MLP Model"
   ]
  },
  {
   "cell_type": "code",
   "execution_count": 70,
   "metadata": {},
   "outputs": [],
   "source": [
    "from keras.models import Sequential, load_model\n",
    "from keras.layers import Dense, LSTM, Embedding, Dropout"
   ]
  },
  {
   "cell_type": "code",
   "execution_count": 71,
   "metadata": {
    "scrolled": true
   },
   "outputs": [],
   "source": [
    "\n",
    "# model = Sequential()\n",
    "# model.add(Embedding(5000, 256, input_length=X.shape[1]))\n",
    "# model.add(Dropout(0.3))\n",
    "# model.add(LSTM(256, return_sequences=True, dropout=0.3, recurrent_dropout=0.2))\n",
    "# model.add(LSTM(256, dropout=0.3, recurrent_dropout=0.2))\n",
    "# model.add(Dense(5, activation='softmax'))\n",
    "\n",
    "\n",
    "# model.compile(loss='categorical_crossentropy', optimizer='adam', metrics=['accuracy'])\n",
    "# model.summary()"
   ]
  },
  {
   "cell_type": "code",
   "execution_count": 72,
   "metadata": {},
   "outputs": [],
   "source": [
    "# batch_size = 64\n",
    "# epochs = 4\n",
    "\n",
    "# history = model.fit(X_train, y_train, validation_data = (X_test, y_test), epochs=epochs, batch_size=batch_size, verbose=1)"
   ]
  },
  {
   "cell_type": "code",
   "execution_count": 73,
   "metadata": {},
   "outputs": [
    {
     "data": {
      "text/plain": [
       "array([[1, 0, 0, 0, 0],\n",
       "       [0, 0, 0, 1, 0],\n",
       "       [0, 1, 0, 0, 0],\n",
       "       ...,\n",
       "       [0, 0, 0, 0, 1],\n",
       "       [0, 0, 0, 0, 1],\n",
       "       [0, 0, 0, 0, 1]], dtype=uint8)"
      ]
     },
     "execution_count": 73,
     "metadata": {},
     "output_type": "execute_result"
    }
   ],
   "source": [
    "# y = pd.get_dummies(model_df['Targets']).values\n",
    "# # [print(sample_df['Targets'][i], y[i]) for i in range(0,15)]\n",
    "# y"
   ]
  },
  {
   "cell_type": "code",
   "execution_count": 92,
   "metadata": {},
   "outputs": [],
   "source": [
    "y = np.argmax(y, axis=1)"
   ]
  },
  {
   "cell_type": "code",
   "execution_count": 93,
   "metadata": {},
   "outputs": [],
   "source": [
    "from sklearn.model_selection import train_test_split\n",
    "\n",
    "#use y_values for sparse and y for regualrd\n",
    "\n",
    "# X_train, X_test, y_train, y_test = train_test_split(np.array([sample_df['PCA_1'], sample_df['PCA_2']]).T, sample_df['Targets'], test_size=0.2, random_state=0)\n",
    "\n",
    "X_train, X_test, y_train, y_test = train_test_split(X, y, test_size=0.3, random_state = 30 )"
   ]
  },
  {
   "cell_type": "code",
   "execution_count": 95,
   "metadata": {
    "scrolled": false
   },
   "outputs": [
    {
     "name": "stdout",
     "output_type": "stream",
     "text": [
      "Epoch 1/50\n",
      "6563/6563 [==============================] - 15s 2ms/step - loss: 1.6164 - accuracy: 0.2051 - val_loss: 1.6268 - val_accuracy: 0.1987\n",
      "Epoch 2/50\n",
      "6563/6563 [==============================] - 14s 2ms/step - loss: 1.6170 - accuracy: 0.2013 - val_loss: 1.6132 - val_accuracy: 0.1987\n",
      "Epoch 3/50\n",
      "6563/6563 [==============================] - 16s 2ms/step - loss: 1.5944 - accuracy: 0.2338 - val_loss: 1.6298 - val_accuracy: 0.2071\n",
      "Epoch 4/50\n",
      "6563/6563 [==============================] - 13s 2ms/step - loss: 1.5869 - accuracy: 0.2494 - val_loss: 1.6313 - val_accuracy: 0.1987\n",
      "Epoch 5/50\n",
      "6563/6563 [==============================] - 13s 2ms/step - loss: 1.6073 - accuracy: 0.2164 - val_loss: 1.5573 - val_accuracy: 0.2746\n",
      "Epoch 6/50\n",
      "6563/6563 [==============================] - 13s 2ms/step - loss: 1.5448 - accuracy: 0.2870 - val_loss: 1.5398 - val_accuracy: 0.2976\n",
      "Epoch 7/50\n",
      "6563/6563 [==============================] - 14s 2ms/step - loss: 1.5300 - accuracy: 0.3051 - val_loss: 1.5166 - val_accuracy: 0.3132\n",
      "Epoch 8/50\n",
      "6563/6563 [==============================] - 13s 2ms/step - loss: 1.5468 - accuracy: 0.2860 - val_loss: 1.5665 - val_accuracy: 0.2652\n",
      "Epoch 9/50\n",
      "6563/6563 [==============================] - 14s 2ms/step - loss: 1.5813 - accuracy: 0.2535 - val_loss: 1.6217 - val_accuracy: 0.1993\n",
      "Epoch 10/50\n",
      "6563/6563 [==============================] - 13s 2ms/step - loss: 1.6150 - accuracy: 0.2050 - val_loss: 1.6139 - val_accuracy: 0.1987\n",
      "Epoch 11/50\n",
      "6563/6563 [==============================] - 13s 2ms/step - loss: 1.5863 - accuracy: 0.2351 - val_loss: 1.4860 - val_accuracy: 0.3294\n",
      "Epoch 12/50\n",
      "6563/6563 [==============================] - 14s 2ms/step - loss: 1.4989 - accuracy: 0.3173 - val_loss: 1.5001 - val_accuracy: 0.3102\n",
      "Epoch 13/50\n",
      "6563/6563 [==============================] - 13s 2ms/step - loss: 1.4969 - accuracy: 0.3224 - val_loss: 1.4717 - val_accuracy: 0.3272\n",
      "Epoch 14/50\n",
      "6563/6563 [==============================] - 13s 2ms/step - loss: 1.4946 - accuracy: 0.3188 - val_loss: 1.4991 - val_accuracy: 0.3035\n",
      "Epoch 15/50\n",
      "6563/6563 [==============================] - 14s 2ms/step - loss: 1.4781 - accuracy: 0.3331 - val_loss: 1.4305 - val_accuracy: 0.3727\n",
      "Epoch 16/50\n",
      "6563/6563 [==============================] - 13s 2ms/step - loss: 1.4232 - accuracy: 0.3668 - val_loss: 1.4475 - val_accuracy: 0.3355\n",
      "Epoch 17/50\n",
      "6563/6563 [==============================] - 14s 2ms/step - loss: 1.4644 - accuracy: 0.3422 - val_loss: 1.4148 - val_accuracy: 0.3786\n",
      "Epoch 18/50\n",
      "6563/6563 [==============================] - 13s 2ms/step - loss: 1.4284 - accuracy: 0.3703 - val_loss: 1.4119 - val_accuracy: 0.3837\n",
      "Epoch 19/50\n",
      "6563/6563 [==============================] - 16s 2ms/step - loss: 1.4278 - accuracy: 0.3662 - val_loss: 1.4413 - val_accuracy: 0.3530\n",
      "Epoch 20/50\n",
      "6563/6563 [==============================] - 15s 2ms/step - loss: 1.4438 - accuracy: 0.3522 - val_loss: 1.4311 - val_accuracy: 0.3599\n",
      "Epoch 21/50\n",
      "6563/6563 [==============================] - 13s 2ms/step - loss: 1.4401 - accuracy: 0.3563 - val_loss: 1.4470 - val_accuracy: 0.3436\n",
      "Epoch 22/50\n",
      "6563/6563 [==============================] - 15s 2ms/step - loss: 1.4253 - accuracy: 0.3551 - val_loss: 1.3688 - val_accuracy: 0.3927\n",
      "Epoch 23/50\n",
      "6563/6563 [==============================] - 14s 2ms/step - loss: 1.3585 - accuracy: 0.4064 - val_loss: 1.5570 - val_accuracy: 0.3200\n",
      "Epoch 24/50\n",
      "6563/6563 [==============================] - 14s 2ms/step - loss: 1.3559 - accuracy: 0.4084 - val_loss: 1.4220 - val_accuracy: 0.3722\n",
      "Epoch 25/50\n",
      "6563/6563 [==============================] - 14s 2ms/step - loss: 1.3940 - accuracy: 0.3967 - val_loss: 1.5525 - val_accuracy: 0.3212\n",
      "Epoch 26/50\n",
      "6563/6563 [==============================] - 14s 2ms/step - loss: 1.4123 - accuracy: 0.3809 - val_loss: 1.3918 - val_accuracy: 0.4029\n",
      "Epoch 27/50\n",
      "6563/6563 [==============================] - 14s 2ms/step - loss: 1.4506 - accuracy: 0.3510 - val_loss: 1.4417 - val_accuracy: 0.3411\n",
      "Epoch 28/50\n",
      "6563/6563 [==============================] - 14s 2ms/step - loss: 1.4368 - accuracy: 0.3489 - val_loss: 1.4554 - val_accuracy: 0.3401\n",
      "Epoch 29/50\n",
      "6563/6563 [==============================] - 14s 2ms/step - loss: 1.4855 - accuracy: 0.3167 - val_loss: 1.5528 - val_accuracy: 0.2809\n",
      "Epoch 30/50\n",
      "6563/6563 [==============================] - 13s 2ms/step - loss: 1.5651 - accuracy: 0.2589 - val_loss: 1.4711 - val_accuracy: 0.3219\n",
      "Epoch 31/50\n",
      "6563/6563 [==============================] - 15s 2ms/step - loss: 1.4637 - accuracy: 0.3347 - val_loss: 1.4103 - val_accuracy: 0.3928\n",
      "Epoch 32/50\n",
      "6563/6563 [==============================] - 17s 3ms/step - loss: 1.6184 - accuracy: 0.2201 - val_loss: 1.4256 - val_accuracy: 0.3473\n",
      "Epoch 33/50\n",
      "6563/6563 [==============================] - 14s 2ms/step - loss: 1.3982 - accuracy: 0.3742 - val_loss: 1.3305 - val_accuracy: 0.4204\n",
      "Epoch 34/50\n",
      "6563/6563 [==============================] - 12s 2ms/step - loss: 1.3365 - accuracy: 0.4179 - val_loss: 1.3325 - val_accuracy: 0.4234\n",
      "Epoch 35/50\n",
      "6563/6563 [==============================] - 13s 2ms/step - loss: 1.3363 - accuracy: 0.4179 - val_loss: 1.3389 - val_accuracy: 0.4192\n",
      "Epoch 36/50\n",
      "6563/6563 [==============================] - 13s 2ms/step - loss: 1.3426 - accuracy: 0.4147 - val_loss: 1.3168 - val_accuracy: 0.4303\n",
      "Epoch 37/50\n",
      "6563/6563 [==============================] - 12s 2ms/step - loss: 1.3283 - accuracy: 0.4224 - val_loss: 1.3210 - val_accuracy: 0.4286\n",
      "Epoch 38/50\n",
      "6563/6563 [==============================] - 13s 2ms/step - loss: 1.3305 - accuracy: 0.4186 - val_loss: 1.3354 - val_accuracy: 0.4183\n",
      "Epoch 39/50\n",
      "6563/6563 [==============================] - 14s 2ms/step - loss: 1.3308 - accuracy: 0.4210 - val_loss: 1.3429 - val_accuracy: 0.4266\n",
      "Epoch 40/50\n",
      "6563/6563 [==============================] - 13s 2ms/step - loss: 1.3342 - accuracy: 0.4206 - val_loss: 1.3257 - val_accuracy: 0.4169\n",
      "Epoch 41/50\n",
      "6563/6563 [==============================] - 14s 2ms/step - loss: 1.3320 - accuracy: 0.4193 - val_loss: 1.3215 - val_accuracy: 0.4237\n",
      "Epoch 42/50\n",
      "6563/6563 [==============================] - 14s 2ms/step - loss: 1.3302 - accuracy: 0.4205 - val_loss: 1.3278 - val_accuracy: 0.4205\n",
      "Epoch 43/50\n",
      "6563/6563 [==============================] - 13s 2ms/step - loss: 1.3293 - accuracy: 0.4203 - val_loss: 1.3374 - val_accuracy: 0.4199\n",
      "Epoch 44/50\n",
      "6563/6563 [==============================] - 13s 2ms/step - loss: 1.3320 - accuracy: 0.4211 - val_loss: 1.3310 - val_accuracy: 0.4296\n",
      "Epoch 45/50\n",
      "6563/6563 [==============================] - 13s 2ms/step - loss: 1.3291 - accuracy: 0.4235 - val_loss: 1.3312 - val_accuracy: 0.4133\n",
      "Epoch 46/50\n",
      "6563/6563 [==============================] - 14s 2ms/step - loss: 1.3317 - accuracy: 0.4196 - val_loss: 1.3676 - val_accuracy: 0.4038\n",
      "Epoch 47/50\n",
      "6563/6563 [==============================] - 13s 2ms/step - loss: 1.3327 - accuracy: 0.4189 - val_loss: 1.3296 - val_accuracy: 0.4268\n",
      "Epoch 48/50\n",
      "6563/6563 [==============================] - 13s 2ms/step - loss: 1.3306 - accuracy: 0.4225 - val_loss: 1.3321 - val_accuracy: 0.4210\n",
      "Epoch 49/50\n",
      "6563/6563 [==============================] - 13s 2ms/step - loss: 1.3363 - accuracy: 0.4189 - val_loss: 1.3352 - val_accuracy: 0.4239\n",
      "Epoch 50/50\n",
      "6563/6563 [==============================] - 13s 2ms/step - loss: 1.3347 - accuracy: 0.4198 - val_loss: 1.3266 - val_accuracy: 0.4202\n"
     ]
    }
   ],
   "source": [
    "import tensorflow.keras as keras\n",
    "\n",
    "lambda_regularization = 0.0001\n",
    "dropout_rt = 0.1\n",
    "\n",
    "learning_rt = 0.01\n",
    "\n",
    "model = Sequential()\n",
    "\n",
    "model.add(Dense(512, input_dim = X.shape[1] ))\n",
    "# model.add(Dropout(0.3))\n",
    "model.add(Dense(248, activation='relu', kernel_regularizer = keras.regularizers.l2(lambda_regularization)))\n",
    "model.add(Dense(128, activation='relu', kernel_regularizer = keras.regularizers.l2(lambda_regularization)))\n",
    "model.add(Dense(64, activation='relu', kernel_regularizer = keras.regularizers.l2(lambda_regularization)))\n",
    "model.add(Dense(32, activation='softmax', kernel_regularizer = keras.regularizers.l2(lambda_regularization)))\n",
    "model.add(Dense(5, activation = 'softmax'))\n",
    "\n",
    "model.compile(optimizer = keras.optimizers.Adam(learning_rate = learning_rt),\n",
    "              loss= 'sparse_categorical_crossentropy',\n",
    "              metrics = ['accuracy'])\n",
    "\n",
    "print(learning_rt, dropout_rt, lambda_regularization)\n",
    "history = model.fit(X_train, y_train, validation_data=(X_test, y_test), epochs= 50)\n"
   ]
  },
  {
   "cell_type": "code",
   "execution_count": 102,
   "metadata": {},
   "outputs": [
    {
     "data": {
      "image/png": "[encoded data removed]",
      "text/plain": [
       "<Figure size 720x576 with 2 Axes>"
      ]
     },
     "metadata": {
      "needs_background": "light"
     },
     "output_type": "display_data"
    }
   ],
   "source": [
    "model_loss_history = history.history['loss']\n",
    "model_val_loss_history = history.history['val_loss']\n",
    "model_accuracy_list = history.history['accuracy']\n",
    "model_val_accuracy_list = history.history['val_accuracy']\n",
    "\n",
    "\n",
    "parameter_string = '     λ = ' + str(lambda_regularization) + ' , Dropout Rate = ' + str(dropout_rt) + ' , Learning Rate = '+ str(learning_rt)\n",
    "file_save_string = 'lambda_' + str(lambda_regularization) + ' - dropout_rt_' + str(dropout_rt) + '.png'\n",
    "\n",
    "\n",
    "plt.figure(figsize = (10,8))\n",
    "\n",
    "plt.subplot(2,1,1)\n",
    "plt.title('Model Loss History: ' + parameter_string, fontsize = 16)\n",
    "plt.xlabel('Epoch', fontsize = 12)\n",
    "plt.ylabel('Loss', fontsize = 12)\n",
    "# plt.ylim(0, 150)\n",
    "plt.plot(np.arange(1, len(model_loss_history) + 1), model_loss_history, color = 'r', label = 'Training Loss History')\n",
    "plt.plot(np.arange(1, len(model_val_loss_history) + 1), model_val_loss_history, color = 'b', label = 'Validation Loss History')\n",
    "plt.legend()\n",
    "\n",
    "\n",
    "plt.subplot(2,1,2)\n",
    "plt.title('Model Accuracy History: ' + parameter_string, fontsize = 16)\n",
    "plt.xlabel('Epoch', fontsize = 12)\n",
    "plt.ylabel('Accuracy', fontsize = 12)\n",
    "plt.ylim(0, 1.0)\n",
    "plt.plot(np.arange(1, len(model_accuracy_list) + 1), model_accuracy_list, color = 'r', label = 'Training Accuracy History')\n",
    "plt.plot(np.arange(1, len(model_val_accuracy_list) + 1), model_val_accuracy_list, color = 'b', label = 'Model Validation Accuracy History')\n",
    "plt.legend()\n",
    "plt.subplots_adjust(top = 1.25)\n",
    "# plt.savefig(file_save_string, dpi=300, orientation = 'vertical', bbox_inches = 'tight', pad_inches = 0.5)\n",
    "\n",
    "plt.show()"
   ]
  },
  {
   "cell_type": "code",
   "execution_count": 107,
   "metadata": {},
   "outputs": [
    {
     "name": "stdout",
     "output_type": "stream",
     "text": [
      "Training Set Accuracy: 42.293%\n",
      "Training Set F1 Score: 0.423\n"
     ]
    }
   ],
   "source": [
    "from sklearn import metrics\n",
    "\n",
    "y_pred_train = np.argmax(model.predict(X_train), axis = 1)\n",
    "\n",
    "train_accuracy = metrics.accuracy_score(y_train, y_pred_train)\n",
    "train_f1_score = metrics.f1_score(y_train, y_pred_train, average=\"micro\")\n",
    "\n",
    "train_precision = metrics.precision_score(y_train, y_pred_train, average = 'micro')\n",
    "train_recall = metrics.recall_score(y_train, y_pred_train, average = 'micro')\n",
    "\n",
    "print(f\"Training Set Accuracy: {train_accuracy*100:.3f}%\")\n",
    "print(f\"Training Set F1 Score: {train_f1_score:.3f}\")\n",
    "# print(f\"Training Set Precision: {train_precision:.3f}\")\n",
    "# print(f\"Training Set Recall: {train_recall:.3f}\")"
   ]
  },
  {
   "cell_type": "code",
   "execution_count": 108,
   "metadata": {},
   "outputs": [
    {
     "name": "stdout",
     "output_type": "stream",
     "text": [
      "Testing Set Accuracy: 42.019%\n",
      "Testing Set F1 Score: 0.420\n"
     ]
    }
   ],
   "source": [
    "y_pred_test = np.argmax(model.predict(X_test), axis = 1)\n",
    "\n",
    "test_accuracy = metrics.accuracy_score(y_test, y_pred_test)\n",
    "test_f1_score = metrics.f1_score(y_test, y_pred_test, average=\"micro\")\n",
    "\n",
    "test_precision = metrics.precision_score(y_test, y_pred_test, average = 'micro')\n",
    "test_recall = metrics.recall_score(y_test, y_pred_test, average = 'micro')\n",
    "\n",
    "print(f\"Testing Set Accuracy: {test_accuracy*100:.3f}%\")\n",
    "print(f\"Testing Set F1 Score: {test_f1_score:.3f}\")\n",
    "# print(f\"Testing Set Precision: {test_precision:.3f}\")\n",
    "# print(f\"Testing Set Recall: {test_recall:.3f}\")"
   ]
  },
  {
   "cell_type": "code",
   "execution_count": 111,
   "metadata": {},
   "outputs": [
    {
     "data": {
      "image/png": "[encoded data removed]",
      "text/plain": [
       "<Figure size 864x432 with 2 Axes>"
      ]
     },
     "metadata": {
      "needs_background": "light"
     },
     "output_type": "display_data"
    }
   ],
   "source": [
    "from sklearn.metrics import confusion_matrix\n",
    "\n",
    "confusion_training = confusion_matrix(y_train, y_pred_train)\n",
    "\n",
    "confusion_training = confusion_training.astype(\"float\") / confusion_training.sum(axis=1)[:, np.newaxis]\n",
    "\n",
    "confusion_training = np.around(confusion_training, decimals=3)*100\n",
    "\n",
    "#create confusion matrix heat map\n",
    "f, axes = plt.subplots(figsize=(12,6))\n",
    "im = axes.imshow(confusion_training, interpolation=\"nearest\", cmap = plt.cm.Blues)\n",
    "\n",
    "axes.figure.colorbar(im, ax=axes)\n",
    "axes.set(title=\"MLP Confusion Matrix: Training Data\", \\\n",
    "         xticks=np.arange(confusion_training.shape[1]), \\\n",
    "         yticks=np.arange(confusion_training.shape[0]), \\\n",
    "         xticklabels=range(1, 6), yticklabels=range(1, 6), \\\n",
    "         xlabel=\"Predicted\", ylabel=\"Truth\")\n",
    "\n",
    "axes.tick_params(axis='x', labelsize=14)\n",
    "axes.tick_params(axis='y', labelsize=14)\n",
    "axes.title.set_fontsize(20)\n",
    "axes.xaxis.label.set_fontsize(14)\n",
    "axes.yaxis.label.set_fontsize(14)\n",
    "\n",
    "\n",
    "#add clear annotations to the confusion matrix\n",
    "threshold = confusion_training.max()/1.5\n",
    "for i in range(confusion_training.shape[0]):\n",
    "    for j in range(confusion_training.shape[1]):\n",
    "        axes.text(j, i, f\"{confusion_training[i, j]:.0f}%\",\n",
    "                ha=\"center\", va=\"center\",\n",
    "                color=\"white\" if confusion_training[i, j] > threshold else \"black\")\n",
    "        \n",
    "f.tight_layout()\n",
    "plt.savefig('MLP Training Confusion.png', dpi = 300)\n",
    "plt.show()"
   ]
  },
  {
   "cell_type": "code",
   "execution_count": 112,
   "metadata": {},
   "outputs": [
    {
     "data": {
      "image/png": "[encoded data removed]",
      "text/plain": [
       "<Figure size 864x432 with 2 Axes>"
      ]
     },
     "metadata": {
      "needs_background": "light"
     },
     "output_type": "display_data"
    }
   ],
   "source": [
    "confusion_training = confusion_matrix(y_test, y_pred_test)\n",
    "\n",
    "confusion_training = confusion_training.astype(\"float\") / confusion_training.sum(axis=1)[:, np.newaxis]\n",
    "\n",
    "confusion_training = np.around(confusion_training, decimals=3)*100\n",
    "\n",
    "#create confusion matrix heat map\n",
    "f, axes = plt.subplots(figsize=(12,6))\n",
    "im = axes.imshow(confusion_training, interpolation=\"nearest\", cmap = plt.cm.Blues)\n",
    "\n",
    "axes.figure.colorbar(im, ax=axes)\n",
    "axes.set(title=\"MLP Confusion Matrix: Testing Data\", \\\n",
    "         xticks=np.arange(confusion_training.shape[1]), \\\n",
    "         yticks=np.arange(confusion_training.shape[0]), \\\n",
    "         xticklabels=range(1, 6), yticklabels=range(1, 6), \\\n",
    "         xlabel=\"Predicted\", ylabel=\"Truth\")\n",
    "\n",
    "axes.tick_params(axis='x', labelsize=14)\n",
    "axes.tick_params(axis='y', labelsize=14)\n",
    "axes.title.set_fontsize(20)\n",
    "axes.xaxis.label.set_fontsize(14)\n",
    "axes.yaxis.label.set_fontsize(14)\n",
    "\n",
    "\n",
    "#add clear annotations to the confusion matrix\n",
    "threshold = confusion_training.max()/1.5\n",
    "for i in range(confusion_training.shape[0]):\n",
    "    for j in range(confusion_training.shape[1]):\n",
    "        axes.text(j, i, f\"{confusion_training[i, j]:.0f}%\",\n",
    "                ha=\"center\", va=\"center\",\n",
    "                color=\"white\" if confusion_training[i, j] > threshold else \"black\")\n",
    "        \n",
    "f.tight_layout()\n",
    "plt.savefig('MLP Testing Confusion.png', dpi = 300)\n",
    "plt.show()"
   ]
  },
  {
   "cell_type": "code",
   "execution_count": 77,
   "metadata": {},
   "outputs": [],
   "source": [
    "# \"{:.2%}\".format(predictions[i])"
   ]
  },
  {
   "cell_type": "code",
   "execution_count": 121,
   "metadata": {},
   "outputs": [
    {
     "data": {
      "text/plain": [
       "[0, 0, 0, 1, 0]"
      ]
     },
     "execution_count": 121,
     "metadata": {},
     "output_type": "execute_result"
    }
   ],
   "source": [
    "list(pd.get_dummies(y_test).values[0])"
   ]
  },
  {
   "cell_type": "code",
   "execution_count": 122,
   "metadata": {},
   "outputs": [
    {
     "name": "stdout",
     "output_type": "stream",
     "text": [
      "Text:  this model may ok sedentary type m active get around alot job consistently found stocking rolled ankle not good solution go standard compression stocking  stock  excellent support stay give need both pair also tore struggled pull time good riddancebad investment \n",
      "Predicted Output:  [0.0811201  0.19121327 0.29904997 0.28084123 0.14777537] \n",
      "True Classification:  [0, 0, 0, 1, 0] \n",
      "\n",
      "\n",
      "Text:  this fast read filled unexpected humour profound insight art politics policy in brief sly wry wise \n",
      "Predicted Output:  [0.16745722 0.28412092 0.26716793 0.17133997 0.10991394] \n",
      "True Classification:  [0, 1, 0, 0, 0] \n",
      "\n",
      "\n",
      "Text:  bought one chargersthe instruction say light stay battery charge  true the instruction dont say light turn done which also true  hour charging light stay returned thinking bad unitthe new one thing kept since charge  light useless since seem always stay it s  backup  charger manage drain aas would nt want charger \n",
      "Predicted Output:  [0.02365395 0.04889715 0.0905285  0.29860127 0.5383191 ] \n",
      "True Classification:  [0, 0, 0, 0, 1] \n",
      "\n",
      "\n",
      "Text:  excited find book ostensibly muslim feminism volume live expectationsone essay among thing describes veil potentially liberating it nt begin explain whyanother muslim woman cape town claim muslim woman separate  equal  gee whiz disappointmenti expected hoped least one muslim feminist condemnation gender apartheid but single one booki m surprised nt essay extolling virtue female genital mutilation   alyssa a lappen \n",
      "Predicted Output:  [0.60297716 0.25992388 0.0861928  0.02807318 0.02283295] \n",
      "True Classification:  [0, 1, 0, 0, 0] \n",
      "\n",
      "\n",
      "Text:  big jvc fan like model suspiscious saw several unit return section store bought one anyway new must say happy the unit sends click receiver transition scene always smooth like little pause still fairly new ca nt get dvd cd even dvd headcleaner work all get  incorrect disc  message \n",
      "Predicted Output:  [0.1050263  0.22206047 0.29348752 0.24293618 0.13648951] \n",
      "True Classification:  [0, 0, 1, 0, 0] \n",
      "\n",
      "\n",
      "Text:  love style couple year dvd giving problem it nt even work anymore use broken ps now would nt recommend m going upgrade recorder wish would work guess m giving jvc really like one  stopped working the dvd player gave problem probably year \n",
      "Predicted Output:  [0.02365397 0.04889719 0.09052859 0.2986014  0.5383189 ] \n",
      "True Classification:  [0, 0, 0, 1, 0] \n",
      "\n",
      "\n",
      "Text:  scroll dvd menu set vertically the triangle key select horizontally so select anything dvd s besides no special feature language select nothing \n",
      "Predicted Output:  [0.04590368 0.12541673 0.26094222 0.36069733 0.20704006] \n",
      "True Classification:  [0, 0, 0, 1, 0] \n",
      "\n",
      "\n",
      "Text:  this movie animal really keep grandson occupied m babysitting he love watching get much accomplished get bored so worth money as matter fact m buying one house yo cousin house we re saying goodbye netflix way go amazon gammy \n",
      "Predicted Output:  [0.60297716 0.25992388 0.0861928  0.02807318 0.02283295] \n",
      "True Classification:  [1, 0, 0, 0, 0] \n",
      "\n",
      "\n",
      "Text:  found copy cookbook local used book store mixed sourdough starter following day it bubbling away next morning ca nt wait try day  the direction book simple follow the anecdote history provided entertaining the recipe sound delicious ll working way many starting course sourdough hotcake bread the handwritten format add charm book if re interested learning make sourdough book give information ll need \n",
      "Predicted Output:  [0.0590767  0.15777384 0.2994001  0.32508227 0.15866715] \n",
      "True Classification:  [0, 0, 1, 0, 0] \n",
      "\n",
      "\n",
      "Text:  the book basic   book using sourdough the author obviously lot experience cooking sourdough starteri would loved recipe go search internet \n",
      "Predicted Output:  [0.28800857 0.35244682 0.20138215 0.08890601 0.06925644] \n",
      "True Classification:  [0, 1, 0, 0, 0] \n",
      "\n",
      "\n"
     ]
    },
    {
     "data": {
      "text/plain": [
       "[None, None, None, None, None, None, None, None, None, None]"
      ]
     },
     "execution_count": 122,
     "metadata": {},
     "output_type": "execute_result"
    }
   ],
   "source": [
    "predictions = model.predict(X_test)\n",
    "\n",
    "[print('Text: ', sample_df['Processed Text'][i], \n",
    "       '\\nPredicted Output: ', predictions[i],\n",
    "       '\\nTrue Classification: ', list(pd.get_dummies(y_test).values[i]), #y_test[i],\n",
    "       '\\n\\n') for i in range(0, 10)]"
   ]
  },
  {
   "cell_type": "code",
   "execution_count": 123,
   "metadata": {},
   "outputs": [
    {
     "data": {
      "text/plain": [
       "array([[0.0811201 , 0.19121327, 0.29904997, 0.28084123, 0.14777537],\n",
       "       [0.16745722, 0.28412092, 0.26716793, 0.17133997, 0.10991394],\n",
       "       [0.02365395, 0.04889715, 0.0905285 , 0.29860127, 0.5383191 ],\n",
       "       ...,\n",
       "       [0.02365399, 0.04889725, 0.09052871, 0.2986015 , 0.5383186 ],\n",
       "       [0.60297716, 0.25992388, 0.0861928 , 0.02807318, 0.02283295],\n",
       "       [0.60297716, 0.25992388, 0.0861928 , 0.02807318, 0.02283295]],\n",
       "      dtype=float32)"
      ]
     },
     "execution_count": 123,
     "metadata": {},
     "output_type": "execute_result"
    }
   ],
   "source": [
    "predictions"
   ]
  },
  {
   "cell_type": "markdown",
   "metadata": {},
   "source": [
    "## TODO \n",
    "    - Other Algos (Random Forest maybe) \n",
    "    - Plot Learning Rate vs Loss somehow (look at the repo with the lm model)"
   ]
  },
  {
   "cell_type": "markdown",
   "metadata": {},
   "source": [
    "# Evaluate with sample review"
   ]
  },
  {
   "cell_type": "code",
   "execution_count": 140,
   "metadata": {},
   "outputs": [
    {
     "data": {
      "text/plain": [
       "'I absolutely love this product, it is everything that I expected. The quality is unbeatable for the price. This product is amazing. I could not recommend this product more! '"
      ]
     },
     "execution_count": 140,
     "metadata": {},
     "output_type": "execute_result"
    }
   ],
   "source": [
    "# dummy_review = 'This is the best water bottle I have ever used. I love that it is BPA free and great on the environment. I think that everyone who is looking for a good water bottle should buy this one, it is absolutley perfect and totally what I am looking for. I love it!'\n",
    "dummy_review = 'I absolutely love this product, it is everything that I expected. The quality is unbeatable for the price. This product is amazing. I could not recommend this product more! '\n",
    "# dummy_review = 'The package arrived damaged and the tv was fully broken. Do not buy this product, it is cheap and not made well. The tv is not very bright and makes a loud noise when you turn it on. The screen arrived broken and three days late.'\n",
    "dummy_review"
   ]
  },
  {
   "cell_type": "code",
   "execution_count": 141,
   "metadata": {},
   "outputs": [
    {
     "data": {
      "text/plain": [
       "['absolutely love product  expected  quality unbeatable price  product amazing  recommend product ']"
      ]
     },
     "execution_count": 141,
     "metadata": {},
     "output_type": "execute_result"
    }
   ],
   "source": [
    "dummy_processed = [remove_nums(remove_punc(remove_stop_words(dummy_review))).lower()]\n",
    "dummy_processed"
   ]
  },
  {
   "cell_type": "code",
   "execution_count": 142,
   "metadata": {},
   "outputs": [],
   "source": [
    "# tokenizer.texts_to_sequences(dummy_processed)"
   ]
  },
  {
   "cell_type": "code",
   "execution_count": 143,
   "metadata": {},
   "outputs": [
    {
     "data": {
      "text/plain": [
       "(1, 100)"
      ]
     },
     "execution_count": 143,
     "metadata": {},
     "output_type": "execute_result"
    }
   ],
   "source": [
    "#Reshape to correct input size \n",
    "\n",
    "tokenizer = Tokenizer(num_words=5000, split=\" \")\n",
    "\n",
    "dummy_vectorized = tokenizer.texts_to_sequences(dummy_processed)\n",
    "dummy_vectorized = np.concatenate( ( np.zeros((1, (X.shape[1] - len(dummy_vectorized[0]))))[0]  , (dummy_vectorized[0]) )  )\n",
    "dummy_vectorized = np.asarray(dummy_vectorized)\n",
    "dummy_vectorized = np.expand_dims(dummy_vectorized, axis = 0)\n",
    "dummy_vectorized.shape"
   ]
  },
  {
   "cell_type": "code",
   "execution_count": 144,
   "metadata": {},
   "outputs": [
    {
     "data": {
      "text/plain": [
       "[0.39446204900741577,\n",
       " 0.3623518943786621,\n",
       " 0.1475537121295929,\n",
       " 0.050841063261032104,\n",
       " 0.04479121416807175]"
      ]
     },
     "execution_count": 144,
     "metadata": {},
     "output_type": "execute_result"
    }
   ],
   "source": [
    "dummy_dist = []\n",
    "for a in model.predict(dummy_vectorized).tolist()[0]:\n",
    "    dummy_dist.append(a)\n",
    "\n",
    "dummy_output_data = {1: dummy_dist[0],\n",
    "                2: dummy_dist[1],\n",
    "                3: dummy_dist[2],\n",
    "                4: dummy_dist[3],\n",
    "                5: dummy_dist[4] }\n",
    "\n",
    "dummy_df = pd.DataFrame(data = dummy_output_data, index = ['Class Probability']).T\n",
    "# dummy_df\n",
    "dummy_dist"
   ]
  },
  {
   "cell_type": "code",
   "execution_count": 145,
   "metadata": {},
   "outputs": [
    {
     "data": {
      "image/png": "[encoded data removed]",
      "text/plain": [
       "<Figure size 576x432 with 1 Axes>"
      ]
     },
     "metadata": {
      "needs_background": "light"
     },
     "output_type": "display_data"
    }
   ],
   "source": [
    "fig, ax = plt.subplots(figsize = (8, 6))\n",
    "\n",
    "dummy_df['Class Probability'].plot.bar()\n",
    "ax.set_title('Sample Rating Prediction: Positive Review', fontsize = 14)\n",
    "ax.set_xlabel('Probabillity', fontsize = 12)\n",
    "ax.set_ylabel('Review Rating Class', fontsize = 12)\n",
    "ax.tick_params(axis='x', labelsize=14)\n",
    "ax.tick_params(axis='y', labelsize=14)\n",
    "\n",
    "vals = ax.get_yticks()\n",
    "ax.set_yticklabels(['{:,.2%}'.format(x) for x in vals])\n",
    "\n",
    "# fig.text(0.5, 0.01, dummy_review,  wrap=True, horizontalalignment='center', fontsize=12)\n",
    "fig.savefig(\"Sample Ratings Prediction Positive.png\", dpi = 300)\n",
    "\n",
    "plt.show()"
   ]
  },
  {
   "cell_type": "markdown",
   "metadata": {},
   "source": []
  }
 ],
 "metadata": {
  "kernelspec": {
   "display_name": "Python 3",
   "language": "python",
   "name": "python3"
  },
  "language_info": {
   "codemirror_mode": {
    "name": "ipython",
    "version": 3
   },
   "file_extension": ".py",
   "mimetype": "text/x-python",
   "name": "python",
   "nbconvert_exporter": "python",
   "pygments_lexer": "ipython3",
   "version": "3.8.1"
  }
 },
 "nbformat": 4,
 "nbformat_minor": 4
}
