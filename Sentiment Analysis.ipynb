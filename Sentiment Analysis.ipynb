{
 "cells": [
  {
   "cell_type": "markdown",
   "metadata": {},
   "source": [
    "# 0: Install Dependencies"
   ]
  },
  {
   "cell_type": "code",
   "execution_count": 1,
   "metadata": {},
   "outputs": [],
   "source": [
    "import pandas as pd\n",
    "import datetime\n",
    "import numpy as np\n",
    "\n",
    "\n",
    "# from matplotlib.backends.backend_pgf import FigureCanvasPgf\n",
    "import matplotlib.pyplot as plt\n",
    "import matplotlib\n",
    "\n",
    "import spacy\n",
    " \n",
    "from langdetect import detect\n",
    "import string\n",
    "from nltk.corpus import stopwords\n",
    "from nltk.tokenize import word_tokenize\n"
   ]
  },
  {
   "cell_type": "code",
   "execution_count": 29,
   "metadata": {},
   "outputs": [],
   "source": [
    "matplotlib.rcParams['mathtext.fontset'] = 'stix'\n",
    "matplotlib.rcParams['font.family'] = 'STIXGeneral'\n"
   ]
  },
  {
   "cell_type": "code",
   "execution_count": 3,
   "metadata": {},
   "outputs": [],
   "source": [
    "import warnings\n",
    "warnings.simplefilter(\"ignore\", UserWarning)"
   ]
  },
  {
   "cell_type": "code",
   "execution_count": 4,
   "metadata": {},
   "outputs": [],
   "source": [
    "# from matplotlib.backends.backend_pgf import FigureCanvasPgf\n",
    "# matplotlib.use(\"pgf\")\n",
    "# matplotlib.rcParams.update({\n",
    "#     \"pgf.texsystem\": \"pdflatex\",\n",
    "#     'font.family': 'serif',\n",
    "#     'text.usetex': True,\n",
    "#     'pgf.rcfonts': False,\n",
    "# })"
   ]
  },
  {
   "cell_type": "code",
   "execution_count": 5,
   "metadata": {},
   "outputs": [],
   "source": [
    "#https://realpython.com/sentiment-analysis-python/"
   ]
  },
  {
   "cell_type": "code",
   "execution_count": 6,
   "metadata": {},
   "outputs": [],
   "source": [
    "# nltk dependency\n",
    "# python -m nltk.downloader all"
   ]
  },
  {
   "cell_type": "markdown",
   "metadata": {},
   "source": [
    "# 1: Preprocessing "
   ]
  },
  {
   "cell_type": "markdown",
   "metadata": {},
   "source": [
    "## 1.1: Load Raw Data"
   ]
  },
  {
   "cell_type": "code",
   "execution_count": 7,
   "metadata": {
    "scrolled": true
   },
   "outputs": [],
   "source": [
    "training_df = pd.read_csv('train.csv', header=None, names=['Rating', 'Title', 'Review'])\n",
    "testing_df = pd.read_csv('test.csv', header=None, names=['Rating', 'Title', 'Review'])"
   ]
  },
  {
   "cell_type": "markdown",
   "metadata": {},
   "source": [
    "### 1.1.5: Remove Non-English Reviews"
   ]
  },
  {
   "cell_type": "markdown",
   "metadata": {},
   "source": [
    "## TODO\n",
    "    - Try to get this to work"
   ]
  },
  {
   "cell_type": "code",
   "execution_count": 8,
   "metadata": {},
   "outputs": [
    {
     "name": "stdout",
     "output_type": "stream",
     "text": [
      "Language:  en\n",
      "Language:  fr\n"
     ]
    }
   ],
   "source": [
    "print(\"Language: \", detect('Hello, simple english review because I like reviewing products in english!'))\n",
    "print(\"Language: \", detect('Avez-vous déjà vu un CD double et un DVD avec'))"
   ]
  },
  {
   "cell_type": "code",
   "execution_count": 9,
   "metadata": {},
   "outputs": [],
   "source": [
    "training_df['Language'] = detect(str(training_df['Review']))\n",
    "testing_df['Language'] = detect(str(testing_df['Review']))"
   ]
  },
  {
   "cell_type": "code",
   "execution_count": 10,
   "metadata": {},
   "outputs": [],
   "source": [
    "# training_df.head()"
   ]
  },
  {
   "cell_type": "code",
   "execution_count": 11,
   "metadata": {},
   "outputs": [],
   "source": [
    "# testing_df.head()"
   ]
  },
  {
   "cell_type": "code",
   "execution_count": 12,
   "metadata": {},
   "outputs": [],
   "source": [
    "non_english_mask = (training_df['Language'] == 'en')\n",
    "training_df = training_df[non_english_mask]\n",
    "\n",
    "non_english_mast = (testing_df['Language'] == 'en')\n",
    "testing_df = testing_df[non_english_mask]"
   ]
  },
  {
   "cell_type": "code",
   "execution_count": 13,
   "metadata": {},
   "outputs": [
    {
     "data": {
      "text/plain": [
       "array(['en'], dtype=object)"
      ]
     },
     "execution_count": 13,
     "metadata": {},
     "output_type": "execute_result"
    }
   ],
   "source": [
    "training_df['Language'].unique()"
   ]
  },
  {
   "cell_type": "code",
   "execution_count": 14,
   "metadata": {},
   "outputs": [
    {
     "data": {
      "text/plain": [
       "array(['en'], dtype=object)"
      ]
     },
     "execution_count": 14,
     "metadata": {},
     "output_type": "execute_result"
    }
   ],
   "source": [
    "testing_df['Language'].unique()"
   ]
  },
  {
   "cell_type": "code",
   "execution_count": 15,
   "metadata": {},
   "outputs": [
    {
     "data": {
      "text/plain": [
       "3000000"
      ]
     },
     "execution_count": 15,
     "metadata": {},
     "output_type": "execute_result"
    }
   ],
   "source": [
    "len(training_df)"
   ]
  },
  {
   "cell_type": "code",
   "execution_count": 16,
   "metadata": {},
   "outputs": [
    {
     "data": {
      "text/plain": [
       "650000"
      ]
     },
     "execution_count": 16,
     "metadata": {},
     "output_type": "execute_result"
    }
   ],
   "source": [
    "len(testing_df)"
   ]
  },
  {
   "cell_type": "markdown",
   "metadata": {},
   "source": [
    "Evaluate Rating Distribution"
   ]
  },
  {
   "cell_type": "code",
   "execution_count": 17,
   "metadata": {},
   "outputs": [
    {
     "name": "stdout",
     "output_type": "stream",
     "text": [
      "[3 5 4 1 2]\n"
     ]
    }
   ],
   "source": [
    "print(training_df['Rating'].unique())"
   ]
  },
  {
   "cell_type": "code",
   "execution_count": 18,
   "metadata": {},
   "outputs": [],
   "source": [
    "# import pdflatex\n",
    "from matplotlib.backends import backend_pgf\n",
    "# matplotlib.use('pgf')\n",
    "# plt.rc('pgf', texsystem='pdflatex')"
   ]
  },
  {
   "cell_type": "code",
   "execution_count": 19,
   "metadata": {},
   "outputs": [
    {
     "data": {
      "image/png": "[encoded data removed]",
      "text/plain": [
       "<Figure size 432x288 with 1 Axes>"
      ]
     },
     "metadata": {
      "needs_background": "light"
     },
     "output_type": "display_data"
    }
   ],
   "source": [
    "plt.title('Total Ratings - Training')\n",
    "training_df['Rating'].value_counts().plot.bar()\n",
    "# plt.savefig('Ratings Distribution.png')\n",
    "# plt.savefig('Ratings Distribution.pgf', format = 'pgf')\n",
    "plt.savefig('Ratings Distribution.pdf')\n",
    "\n",
    "\n",
    "# import tikzplotlib\n",
    "# tikzplotlib.save(\"Ratings Distribution.tex\")\n",
    "\n",
    "plt.show()"
   ]
  },
  {
   "cell_type": "code",
   "execution_count": 20,
   "metadata": {},
   "outputs": [],
   "source": [
    "# testing_df['Rating'].value_counts().plot.bar()\n",
    "# plt.show()"
   ]
  },
  {
   "cell_type": "markdown",
   "metadata": {},
   "source": [
    "Evaluate Length of Reviews"
   ]
  },
  {
   "cell_type": "code",
   "execution_count": 21,
   "metadata": {},
   "outputs": [
    {
     "data": {
      "image/png": "[encoded data removed]",
      "text/plain": [
       "<Figure size 432x288 with 1 Axes>"
      ]
     },
     "metadata": {
      "needs_background": "light"
     },
     "output_type": "display_data"
    }
   ],
   "source": [
    "plt.title(\"Length of Review Characters\")\n",
    "testing_df['Review'].str.len().plot.hist(bins = 10)\n",
    "plt.xticks(np.linspace(0, 1000, 11))\n",
    "# plt.savefig('Review Length Hist.png')\n",
    "plt.savefig('Review Length Hist.pdf')\n",
    "plt.show()"
   ]
  },
  {
   "cell_type": "markdown",
   "metadata": {},
   "source": [
    "# 1.2: Tokenization (sentence vs word tokenization)\n",
    "- Tokenize each element in 'review' column\n",
    "- Filter out symbols\n",
    "- Filter out stop words"
   ]
  },
  {
   "cell_type": "code",
   "execution_count": 22,
   "metadata": {},
   "outputs": [
    {
     "data": {
      "text/plain": [
       "'This model may be ok for sedentary types but Im active and get around alot in my job  consistently found these stockings rolled up down by my ankles Not Good Solution go with the standard compression stocking 2030 stock 114622 Excellent support stays up and gives me what I need Both pair of these also tore as I struggled to pull them up all the time Good riddancebad investment '"
      ]
     },
     "execution_count": 22,
     "metadata": {},
     "output_type": "execute_result"
    }
   ],
   "source": [
    "def remove_punc(text):\n",
    "    result_text = text.translate(str.maketrans('', '', string.punctuation))\n",
    "    return result_text\n",
    "\n",
    "s = r'This model may be ok for sedentary types, but I\\'m active and get around alot in my job - consistently found these stockings rolled up down by my ankles! Not Good!! Solution: go with the standard compression stocking, 20-30, stock #114622. Excellent support, stays up and gives me what I need. Both pair of these also tore as I struggled to pull them up all the time. Good riddance/bad investment! '\n",
    "remove_punc(s)"
   ]
  },
  {
   "cell_type": "code",
   "execution_count": 23,
   "metadata": {},
   "outputs": [
    {
     "data": {
      "text/plain": [
       "'This model may be ok for sedentary types but Im active and get around alot in my job  consistently found these stockings rolled up down by my ankles Not Good Solution go with the standard compression stocking  stock  Excellent support stays up and gives me what I need Both pair of these also tore as I struggled to pull them up all the time Good riddancebad investment '"
      ]
     },
     "execution_count": 23,
     "metadata": {},
     "output_type": "execute_result"
    }
   ],
   "source": [
    "def remove_nums(text):\n",
    "    result_text = ''.join([i for i in text if not i.isdigit()])\n",
    "    return result_text\n",
    "\n",
    "remove_nums(remove_punc(s))"
   ]
  },
  {
   "cell_type": "code",
   "execution_count": 24,
   "metadata": {},
   "outputs": [
    {
     "data": {
      "text/plain": [
       "'This model may be ok for sedentary types but Im active and get around alot in my job consistently found these stockings rolled up down by my ankles Not Good Solution go with the standard compression stocking stock Excellent support stays up and gives me what I need Both pair of these also tore as I struggled to pull them up all the time Good riddancebad investment '"
      ]
     },
     "execution_count": 24,
     "metadata": {},
     "output_type": "execute_result"
    }
   ],
   "source": [
    "import re\n",
    "def remove_spaces(text):\n",
    "    result_text = re.sub(' +', ' ', text)\n",
    "    return result_text\n",
    "\n",
    "remove_spaces(remove_nums(remove_punc(s)))"
   ]
  },
  {
   "cell_type": "code",
   "execution_count": 25,
   "metadata": {},
   "outputs": [
    {
     "data": {
      "text/plain": [
       "'this model may be ok for sedentary types but im active and get around alot in my job consistently found these stockings rolled up down by my ankles not good solution go with the standard compression stocking stock excellent support stays up and gives me what i need both pair of these also tore as i struggled to pull them up all the time good riddancebad investment '"
      ]
     },
     "execution_count": 25,
     "metadata": {},
     "output_type": "execute_result"
    }
   ],
   "source": [
    "remove_spaces(remove_nums(remove_punc(s))).lower()"
   ]
  },
  {
   "cell_type": "code",
   "execution_count": 26,
   "metadata": {},
   "outputs": [
    {
     "name": "stdout",
     "output_type": "stream",
     "text": [
      "remove_stop_words runtime:  0:00:00.789076\n"
     ]
    },
    {
     "data": {
      "text/plain": [
       "'model ok sedentary types m active alot job consistently found stockings rolled ankles good solution standard compression stocking stock excellent support stays gives need pair tore struggled pull time good riddancebad investment'"
      ]
     },
     "execution_count": 26,
     "metadata": {},
     "output_type": "execute_result"
    }
   ],
   "source": [
    "def remove_stop_words(text):\n",
    "\n",
    "    r_start_time = datetime.datetime.now()\n",
    "    \n",
    "    nlp = spacy.load('en_core_web_sm')\n",
    "    text_list = nlp(text)\n",
    "    \n",
    "#     stop_list = ['a', 'an', 'and', 'are', 'as', 'at', 'be', 'but', 'by', 'for', 'if', 'in', 'into', 'is', 'it', 'no', 'not',\n",
    "#                  'of', 'on', 'or', 'such', 'that', 'the', 'their', 'then', 'there', 'these', 'they', 'this', 'to', 'was', \n",
    "#                  'will', 'with']\n",
    "    \n",
    "    temp_list = []\n",
    "    for token in text_list:\n",
    "        if not token.is_stop:\n",
    "            temp_list.append(token)\n",
    "    \n",
    "    str_output = ' '.join([str(elem) for elem in temp_list])\n",
    "\n",
    "    r_end_time = datetime.datetime.now()\n",
    "#     print('remove_stop_words runtime: ', r_end_time - r_start_time)\n",
    "    \n",
    "    return str_output    \n",
    "    \n",
    "remove_stop_words(remove_spaces(remove_nums(remove_punc(s))).lower())"
   ]
  },
  {
   "cell_type": "code",
   "execution_count": 27,
   "metadata": {},
   "outputs": [],
   "source": [
    "def remove_stop_words_nltk(text):\n",
    "#     r_start_time = datetime.datetime.now()\n",
    "    \n",
    "    all_stopwords = stopwords.words('english')\n",
    "    all_stopwords.append('play')\n",
    "\n",
    "    text_tokens = word_tokenize(text)\n",
    "    tokens_without_sw = [word for word in text_tokens if not word in all_stopwords]\n",
    "    str_output = ' '.join([str(elem) for elem in tokens_without_sw])\n",
    "    \n",
    "    \n",
    "    \n",
    "#     r_end_time = datetime.datetime.now()\n",
    "#     print('\\n Runtime: ', r_end_time - r_start_time)\n",
    "    \n",
    "#     print(str_output)\n",
    "    return(str_output)\n",
    "    \n",
    "# remove_stop_words_nltk(s)"
   ]
  },
  {
   "cell_type": "markdown",
   "metadata": {},
   "source": [
    "# 3: Normalization (Root Word Extraction)\n",
    "- Stemming vs Lemmatization\n",
    "- Normalize each element in 'reviews' "
   ]
  },
  {
   "cell_type": "code",
   "execution_count": 108,
   "metadata": {},
   "outputs": [
    {
     "name": "stdout",
     "output_type": "stream",
     "text": [
      "Before Lemmatization:        The striped bats are hanging on their feet\n",
      "\n",
      "After Simple Lemmatization:  The striped bat are hanging on their foot\n",
      "\n",
      "After POS Lemmatization:     The strip bat be hang on their foot\n"
     ]
    }
   ],
   "source": [
    "from nltk.corpus import wordnet\n",
    "\n",
    "lemmatizer = WordNetLemmatizer()\n",
    "\n",
    "def get_wordnet_pos(word):\n",
    "    \"\"\"Map POS tag to first character lemmatize() accepts\"\"\"\n",
    "    tag = nltk.pos_tag([word])[0][1][0].upper()\n",
    "    tag_dict = {\"J\": wordnet.ADJ,\n",
    "                \"N\": wordnet.NOUN,\n",
    "                \"V\": wordnet.VERB,\n",
    "                \"R\": wordnet.ADV}\n",
    "\n",
    "    return tag_dict.get(tag, wordnet.NOUN)\n",
    "\n",
    "\n",
    "def lemmatize_sentence_simple(sentence):\n",
    "    \n",
    "    temp_list = []\n",
    "    for word in nltk.word_tokenize(sentence):\n",
    "        temp_list.append(lemmatizer.lemmatize(word))\n",
    "        \n",
    "    \n",
    "    return ' '.join([str(elem) for elem in temp_list])\n",
    "\n",
    "\n",
    "def lemmatize_sentence_pos(sentence):\n",
    "    \n",
    "    temp_list = []\n",
    "    for word in nltk.word_tokenize(sentence):\n",
    "        temp_list.append(lemmatizer.lemmatize(word, get_wordnet_pos(word)))\n",
    "#         temp_list.append(lemmatizer.lemmatize(word))\n",
    "        \n",
    "    \n",
    "    return ' '.join([str(elem) for elem in temp_list])\n",
    "\n",
    "\n",
    "\n",
    "\n",
    "word = 'feet'\n",
    "# print(lemmatizer.lemmatize(word, get_wordnet_pos(word)))\n",
    "\n",
    "\n",
    "sentence = \"The striped bats are hanging on their feet\"\n",
    "\n",
    "print(\"Before Lemmatization:       \", sentence)\n",
    "print(\"\\nAfter Simple Lemmatization: \", lemmatize_sentence_simple(sentence))\n",
    "print(\"\\nAfter POS Lemmatization:    \", lemmatize_sentence_pos(sentence))"
   ]
  },
  {
   "cell_type": "markdown",
   "metadata": {},
   "source": [
    "### Def preprocess\n",
    "    # output list = []\n",
    "    # for element in row\n",
    "        # text = row's text\n",
    "        # output text = remove_punctuation(text)\n",
    "        # output text = remove_numbers(output text)\n",
    "        # output text = lowercase(output text)\n",
    "        # output text = remove_stop words(output text)\n",
    "        # output list.append(output text )\n",
    "    # return output list "
   ]
  },
  {
   "cell_type": "code",
   "execution_count": 109,
   "metadata": {},
   "outputs": [
    {
     "name": "stdout",
     "output_type": "stream",
     "text": [
      "20.00%\n",
      "40.00%\n",
      "60.00%\n",
      "80.00%\n",
      "100.00%\n",
      "POS Lemma, total items:  50000 \n",
      "Runtime:  0:30:39.555161\n"
     ]
    }
   ],
   "source": [
    "# Parsing\n",
    "\n",
    "def process_column(unprocessed_list, total_items):\n",
    "    output_list = []\n",
    "    count = 0\n",
    "    for item in unprocessed_list:\n",
    "        if item != ' ':            \n",
    "            #No Lemma\n",
    "#             output_list.append( remove_nums(remove_punc(remove_stop_words_nltk(item))).lower()  )\n",
    "\n",
    "\n",
    "            #Simple\n",
    "#             output_list.append( remove_nums(remove_punc(lemmatize_sentence_simple(remove_stop_words_nltk(item)))).lower()  )\n",
    "\n",
    "        \n",
    "            #POS\n",
    "            output_list.append( remove_nums(remove_punc(lemmatize_sentence_pos(remove_stop_words_nltk(item)))).lower()  )\n",
    "        \n",
    "        else:\n",
    "            output_list.append(' ')\n",
    "        \n",
    "        count += 1\n",
    "        \n",
    "        if count % 10000 == 0:\n",
    "            print(\"{:.2%}\".format(count / total_items))\n",
    "        \n",
    "    return output_list\n",
    "\n",
    "\n",
    "start_time = datetime.datetime.now()\n",
    "\n",
    "\n",
    "\n",
    "total_items = 50000\n",
    "test_raw_reviews = testing_df['Review'].tolist()\n",
    "test_processed_reviews = process_column(test_raw_reviews[:total_items], total_items)\n",
    "\n",
    "\n",
    "\n",
    "end_time = datetime.datetime.now()\n",
    "print(\"POS Lemma, total items: \", total_items, \"\\nRuntime: \", end_time - start_time)\n",
    "# print('with POS lemma: 0:01:17.570621')\n",
    "# print('Lemma W/o POS: ')"
   ]
  },
  {
   "cell_type": "code",
   "execution_count": null,
   "metadata": {},
   "outputs": [],
   "source": [
    "# test_processed_reviews"
   ]
  },
  {
   "cell_type": "code",
   "execution_count": 110,
   "metadata": {},
   "outputs": [
    {
     "name": "stdout",
     "output_type": "stream",
     "text": [
      "---------- Review 1 ----------\n",
      "Raw:  This model may be ok for sedentary types, but I'm active and get around alot in my job - consistently found these stockings rolled up down by my ankles! Not Good!! Solution: go with the standard compression stocking, 20-30, stock #114622. Excellent support, stays up and gives me what I need. Both pair of these also tore as I struggled to pull them up all the time. Good riddance/bad investment! \n",
      "\n",
      "\n",
      "Processed:  this model may ok sedentary type  i m active get around alot job  consistently found stocking roll ankle  not good   solution  go standard compression stock    stock    excellent support  stay give i need  both pair also tore i struggle pull time  good riddancebad investment \n",
      "\n",
      "\n",
      "---------- Review 2 ----------\n",
      "Raw:  I bought one of these chargers..the instructions say the lights stay on while the battery charges...true. The instructions doNT say the lights turn off when its done. Which is also true. 24 hours of charging and the lights stay on. I returned it thinking I had a bad unit.The new one did the same thing. I just kept it since it does charge...but the lights are useless since they seem to always stay on. It's a \"backup\" charger for when I manage to drain all my AAs but I wouldn't want this as my only charger. \n",
      "\n",
      "\n",
      "Processed:  i bought one chargersthe instruction say light stay battery charge  true  the instruction dont say light turn do  which also true   hour charge light stay  i return think i bad unitthe new one thing  i kept since charge  light useless since seem always stay  it s  backup  charger i manage drain aas i would nt want charger \n"
     ]
    }
   ],
   "source": [
    "print('---------- Review 1 ----------')\n",
    "print('Raw: ', test_raw_reviews[0], '\\n\\n')\n",
    "print('Processed: ', test_processed_reviews[0])\n",
    "print('\\n')\n",
    "print('---------- Review 2 ----------')\n",
    "print('Raw: ', test_raw_reviews[2], '\\n\\n')\n",
    "print('Processed: ', test_processed_reviews[2])"
   ]
  },
  {
   "cell_type": "markdown",
   "metadata": {},
   "source": [
    "## TODO \n",
    "    - Remove single character tokens (i.e. 'a' or 'i')"
   ]
  },
  {
   "cell_type": "markdown",
   "metadata": {},
   "source": [
    "# 4: Vectorization\n",
    "- Vectorize each token of 'reviews' \n",
    "- Save vectorized reviews data"
   ]
  },
  {
   "cell_type": "code",
   "execution_count": null,
   "metadata": {},
   "outputs": [],
   "source": [
    "sample_df = pd.DataFrame()\n",
    "sample_df['Targets'] = testing_df['Rating'].tolist()[:total_items]\n",
    "sample_df['Processed Text'] = test_processed_reviews\n",
    "print(\"only first\", total_items, \"samples of validation data\")\n",
    "sample_df.head()"
   ]
  },
  {
   "cell_type": "markdown",
   "metadata": {},
   "source": [
    "## TODO \n",
    "    - Use from gensim.models import word2vec\n",
    "    - Try to compare results withthe Keras Tokenizer and Keras Pad_Sequences modules \n",
    "    - Obviously select best from these\n",
    "    - Here ultimate goal is to obtain an array (1, 100) shape, then put this into a df with the true label\n",
    "    - Then use PCA to reduce 100 dimensions to 2 "
   ]
  },
  {
   "cell_type": "code",
   "execution_count": null,
   "metadata": {},
   "outputs": [],
   "source": [
    "from keras.preprocessing.text import Tokenizer\n",
    "from keras.preprocessing.sequence import pad_sequences\n",
    "\n",
    "tokenizer = Tokenizer(num_words=5000, split=\" \")\n",
    "tokenizer.fit_on_texts(sample_df['Processed Text'].values)\n",
    "\n",
    "X = tokenizer.texts_to_sequences(sample_df['Processed Text'].values)\n",
    "X = pad_sequences(X) # padding our text vector so they all have the same length\n",
    "\n",
    "y = sample_df['Targets'].tolist()"
   ]
  },
  {
   "cell_type": "code",
   "execution_count": null,
   "metadata": {
    "scrolled": true
   },
   "outputs": [],
   "source": [
    "y = pd.get_dummies(sample_df['Targets']).values\n",
    "# [print(sample_df['Targets'][i], y[i]) for i in range(0,15)]\n",
    "y"
   ]
  },
  {
   "cell_type": "markdown",
   "metadata": {},
   "source": [
    "## TODO\n",
    "    - Use PCA or maybe a different dimensionality reduction technique to get a 1,2 input vector"
   ]
  },
  {
   "cell_type": "markdown",
   "metadata": {},
   "source": [
    "## TODO \n",
    "    - After PCA plot the output values and label each class with a certain color to determine if the data is linearly seperable (it shouldn't be) \n",
    "    - Also u can use T-SINE from sklearn to scatterplot certain wrods "
   ]
  },
  {
   "cell_type": "markdown",
   "metadata": {},
   "source": [
    "***"
   ]
  },
  {
   "cell_type": "markdown",
   "metadata": {},
   "source": [
    "# 5: Classification\n",
    "- Create classifier for vectorized data\n",
    "- TensorFlow (Google, more DIY, more customizable/complex, bit more powerful with steeper learning curve)\n",
    "- PyTorch (Facebook's version of TF, comperable to tf, apparently it's slightly easier to pick up)\n",
    "- Scikit Learn (Extremely simple in comparison to tf and pytorch) \n",
    "- spaCy also has a text classifier if we want to use that \n",
    "- \n",
    "    #### 5.1\n",
    "    - Split into training/test sets\n",
    "    - Likely 80/20\n",
    "- \n",
    "    #### 5.2\n",
    "    - Model selection\n",
    "- \n",
    "    #### 5.3\n",
    "    - Train model\n",
    "- \n",
    "    #### 5.4\n",
    "    - Evaluate performance\n",
    "- \n",
    "    #### 5.5\n",
    "    - Tweak parameters\n",
    "    - Potentially include hyperparameters\n",
    "- \n",
    "    #### 5.6\n",
    "    - Generate predictions\n",
    "    - Vector from (-1.0, 1.0)"
   ]
  },
  {
   "cell_type": "code",
   "execution_count": null,
   "metadata": {},
   "outputs": [],
   "source": [
    "from sklearn.model_selection import train_test_split\n",
    "\n",
    "X_train, X_test, y_train, y_test = train_test_split(X, y, test_size=0.2, random_state=0)\n"
   ]
  },
  {
   "cell_type": "code",
   "execution_count": null,
   "metadata": {},
   "outputs": [],
   "source": [
    "from keras.models import Sequential, load_model\n",
    "from keras.layers import Dense, LSTM, Embedding, Dropout\n",
    "\n",
    "model = Sequential()\n",
    "model.add(Embedding(5000, 256, input_length=X.shape[1]))\n",
    "model.add(Dropout(0.3))\n",
    "model.add(LSTM(256, return_sequences=True, dropout=0.3, recurrent_dropout=0.2))\n",
    "model.add(LSTM(256, dropout=0.3, recurrent_dropout=0.2))\n",
    "model.add(Dense(5, activation='softmax'))\n",
    "\n",
    "\n",
    "model.compile(loss='categorical_crossentropy', optimizer='adam', metrics=['accuracy'])\n",
    "model.summary()"
   ]
  },
  {
   "cell_type": "code",
   "execution_count": null,
   "metadata": {},
   "outputs": [],
   "source": [
    "print(X_train.shape, y_train.shape, X_test.shape, y_test.shape)"
   ]
  },
  {
   "cell_type": "code",
   "execution_count": null,
   "metadata": {},
   "outputs": [],
   "source": [
    "batch_size = 64\n",
    "epochs = 4\n",
    "\n",
    "history = model.fit(X_train, y_train, validation_data = (X_test, y_test), epochs=epochs, batch_size=batch_size, verbose=2)"
   ]
  },
  {
   "cell_type": "code",
   "execution_count": null,
   "metadata": {},
   "outputs": [],
   "source": [
    "# \"{:.2%}\".format(predictions[i])"
   ]
  },
  {
   "cell_type": "code",
   "execution_count": null,
   "metadata": {},
   "outputs": [],
   "source": [
    "predictions = model.predict(X_test)\n",
    "\n",
    "[print('Text: ', sample_df['Processed Text'][i], '\\nPredicted Output: ', predictions[i], '\\nTrue Classification: ', y_test[i], '\\n\\n') for i in range(0, 10)]"
   ]
  },
  {
   "cell_type": "code",
   "execution_count": null,
   "metadata": {},
   "outputs": [],
   "source": [
    "predictions"
   ]
  },
  {
   "cell_type": "markdown",
   "metadata": {},
   "source": [
    "## TODO \n",
    "    - INclude sklearn metrics (Accuracy & F1)\n",
    "    - Other Algos (Random Forest maybe) \n",
    "    - Thicccccccc confusio matrix (before & after cross validation)\n",
    "    - Cross Validation\n",
    "    - Plot Learning Rate vs Loss somehow (look at the repo with the lm model)\n",
    "    - Figure out how to compare simple ML model (i.e. DT) vs ANN model (i.e. RNN or something else) "
   ]
  },
  {
   "cell_type": "markdown",
   "metadata": {},
   "source": [
    "# Evaluate with sample review"
   ]
  },
  {
   "cell_type": "code",
   "execution_count": null,
   "metadata": {},
   "outputs": [],
   "source": [
    "# dummy_review = 'This is the best water bottle I have ever used. I love that it is BPA free and great on the environment. I think that everyone who is looking for a good water bottle should buy this one, it is absolutley perfect and totally what I am looking for. I love it!'\n",
    "dummy_review = 'I absolutley love this product, it is everything that I expected. The quality is unbeatable for the price. This product is amazing. I could not reccomend this product more!'\n",
    "dummy_review"
   ]
  },
  {
   "cell_type": "code",
   "execution_count": null,
   "metadata": {},
   "outputs": [],
   "source": [
    "dummy_processed = [remove_nums(remove_punc(remove_stop_words(dummy_review))).lower()]\n",
    "dummy_processed"
   ]
  },
  {
   "cell_type": "code",
   "execution_count": null,
   "metadata": {},
   "outputs": [],
   "source": [
    "#Reshape to correct input size \n",
    "\n",
    "dummy_vectorized = tokenizer.texts_to_sequences(dummy_processed)\n",
    "dummy_vectorized = np.concatenate( ( np.zeros((1, (len(X[0]) - len(dummy_vectorized[0]))))[0]  , (dummy_vectorized[0]) )  )\n",
    "dummy_vectorized = np.asarray(dummy_vectorized)\n",
    "dummy_vectorized = np.expand_dims(dummy_vectorized, axis = 0)\n",
    "dummy_vectorized.shape"
   ]
  },
  {
   "cell_type": "code",
   "execution_count": null,
   "metadata": {},
   "outputs": [],
   "source": [
    "model.predict(dummy_vectorized)"
   ]
  },
  {
   "cell_type": "markdown",
   "metadata": {},
   "source": []
  }
 ],
 "metadata": {
  "kernelspec": {
   "display_name": "Python 3",
   "language": "python",
   "name": "python3"
  },
  "language_info": {
   "codemirror_mode": {
    "name": "ipython",
    "version": 3
   },
   "file_extension": ".py",
   "mimetype": "text/x-python",
   "name": "python",
   "nbconvert_exporter": "python",
   "pygments_lexer": "ipython3",
   "version": "3.8.1"
  }
 },
 "nbformat": 4,
 "nbformat_minor": 4
}
