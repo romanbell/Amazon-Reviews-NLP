{
 "cells": [
  {
   "cell_type": "code",
   "execution_count": 2,
   "metadata": {},
   "outputs": [],
   "source": [
    "import pandas as pd\n",
    "import numpy as np\n",
    "import matplotlib.pyplot as plt\n",
    "import spacy\n",
    "# import NLTK\n",
    "from langdetect import detect\n",
    "import string"
   ]
  },
  {
   "cell_type": "code",
   "execution_count": 75,
   "metadata": {},
   "outputs": [],
   "source": [
    "import warnings\n",
    "warnings.simplefilter(\"ignore\", UserWarning)"
   ]
  },
  {
   "cell_type": "code",
   "execution_count": 2,
   "metadata": {},
   "outputs": [],
   "source": [
    "#https://realpython.com/sentiment-analysis-python/"
   ]
  },
  {
   "cell_type": "markdown",
   "metadata": {},
   "source": [
    "# 1: Load Raw Data"
   ]
  },
  {
   "cell_type": "code",
   "execution_count": 385,
   "metadata": {
    "scrolled": true
   },
   "outputs": [],
   "source": [
    "training_df = pd.read_csv('train.csv', header=None, names=['Rating', 'Title', 'Review'])\n",
    "testing_df = pd.read_csv('test.csv', header=None, names=['Rating', 'Title', 'Review'])"
   ]
  },
  {
   "cell_type": "markdown",
   "metadata": {},
   "source": [
    "# 1.5: Remove Non-English Reviews"
   ]
  },
  {
   "cell_type": "code",
   "execution_count": 387,
   "metadata": {},
   "outputs": [
    {
     "name": "stdout",
     "output_type": "stream",
     "text": [
      "Language:  en\n",
      "Language:  fr\n"
     ]
    }
   ],
   "source": [
    "print(\"Language: \", detect('Hello, simple english review because I like reviewing products in english!'))\n",
    "print(\"Language: \", detect('Avez-vous déjà vu un CD double et un DVD avec'))"
   ]
  },
  {
   "cell_type": "code",
   "execution_count": 68,
   "metadata": {},
   "outputs": [],
   "source": [
    "training_df['Language'] = detect(str(training_df['Review']))\n",
    "testing_df['Language'] = detect(str(testing_df['Review']))"
   ]
  },
  {
   "cell_type": "code",
   "execution_count": 388,
   "metadata": {},
   "outputs": [],
   "source": [
    "# training_df.head()"
   ]
  },
  {
   "cell_type": "code",
   "execution_count": 389,
   "metadata": {},
   "outputs": [],
   "source": [
    "# testing_df.head()"
   ]
  },
  {
   "cell_type": "code",
   "execution_count": 71,
   "metadata": {},
   "outputs": [],
   "source": [
    "non_english_mask = (training_df['Language'] == 'en')\n",
    "training_df = training_df[non_english_mask]\n",
    "\n",
    "non_english_mast = (testing_df['Language'] == 'en')\n",
    "testing_df = testing_df[non_english_mask]"
   ]
  },
  {
   "cell_type": "code",
   "execution_count": 62,
   "metadata": {},
   "outputs": [
    {
     "data": {
      "text/plain": [
       "array(['en'], dtype=object)"
      ]
     },
     "execution_count": 62,
     "metadata": {},
     "output_type": "execute_result"
    }
   ],
   "source": [
    "training_df['Language'].unique()"
   ]
  },
  {
   "cell_type": "code",
   "execution_count": 73,
   "metadata": {},
   "outputs": [
    {
     "data": {
      "text/plain": [
       "array(['en'], dtype=object)"
      ]
     },
     "execution_count": 73,
     "metadata": {},
     "output_type": "execute_result"
    }
   ],
   "source": [
    "testing_df['Language'].unique()"
   ]
  },
  {
   "cell_type": "code",
   "execution_count": 65,
   "metadata": {},
   "outputs": [
    {
     "data": {
      "text/plain": [
       "3000000"
      ]
     },
     "execution_count": 65,
     "metadata": {},
     "output_type": "execute_result"
    }
   ],
   "source": [
    "len(training_df)"
   ]
  },
  {
   "cell_type": "code",
   "execution_count": 74,
   "metadata": {},
   "outputs": [
    {
     "data": {
      "text/plain": [
       "650000"
      ]
     },
     "execution_count": 74,
     "metadata": {},
     "output_type": "execute_result"
    }
   ],
   "source": [
    "len(testing_df)"
   ]
  },
  {
   "cell_type": "markdown",
   "metadata": {},
   "source": [
    "Evaluate Rating Distribution"
   ]
  },
  {
   "cell_type": "code",
   "execution_count": 78,
   "metadata": {},
   "outputs": [
    {
     "name": "stdout",
     "output_type": "stream",
     "text": [
      "[3 5 4 1 2]\n"
     ]
    }
   ],
   "source": [
    "print(training_df['Rating'].unique())"
   ]
  },
  {
   "cell_type": "code",
   "execution_count": 383,
   "metadata": {},
   "outputs": [
    {
     "data": {
      "image/png": "[encoded data removed]",
      "text/plain": [
       "<Figure size 432x288 with 1 Axes>"
      ]
     },
     "metadata": {
      "needs_background": "light"
     },
     "output_type": "display_data"
    }
   ],
   "source": [
    "plt.title('Total Ratings - Training')\n",
    "training_df['Rating'].value_counts().plot.bar()\n",
    "plt.savefig('Ratings Distribution.png')\n",
    "plt.show()"
   ]
  },
  {
   "cell_type": "code",
   "execution_count": 92,
   "metadata": {},
   "outputs": [],
   "source": [
    "# testing_df['Rating'].value_counts().plot.bar()\n",
    "# plt.show()"
   ]
  },
  {
   "cell_type": "markdown",
   "metadata": {},
   "source": [
    "Evaluate Length of Reviews"
   ]
  },
  {
   "cell_type": "code",
   "execution_count": 381,
   "metadata": {},
   "outputs": [
    {
     "data": {
      "image/png": "[encoded data removed]",
      "text/plain": [
       "<Figure size 432x288 with 1 Axes>"
      ]
     },
     "metadata": {
      "needs_background": "light"
     },
     "output_type": "display_data"
    }
   ],
   "source": [
    "plt.title(\"Length of Review Characters\")\n",
    "testing_df['Review'].str.len().plot.hist(bins = 10)\n",
    "plt.xticks(np.linspace(0, 1000, 11))\n",
    "plt.savefig('Review Length Hist.png')\n",
    "plt.show()"
   ]
  },
  {
   "cell_type": "markdown",
   "metadata": {},
   "source": [
    "# 2: Tokenization (sentence vs word tokenization)\n",
    "- Tokenize each element in 'review' column\n",
    "- Filter out symbols\n",
    "- Filter out stop words"
   ]
  },
  {
   "cell_type": "code",
   "execution_count": 380,
   "metadata": {},
   "outputs": [
    {
     "data": {
      "text/plain": [
       "'This model may be ok for sedentary types but Im active and get around alot in my job  consistently found these stockings rolled up down by my ankles Not Good Solution go with the standard compression stocking 2030 stock 114622 Excellent support stays up and gives me what I need Both pair of these also tore as I struggled to pull them up all the time Good riddancebad investment '"
      ]
     },
     "execution_count": 380,
     "metadata": {},
     "output_type": "execute_result"
    }
   ],
   "source": [
    "def remove_punc(text):\n",
    "    result_text = text.translate(str.maketrans('', '', string.punctuation))\n",
    "    return result_text\n",
    "\n",
    "s = r'This model may be ok for sedentary types, but I\\'m active and get around alot in my job - consistently found these stockings rolled up down by my ankles! Not Good!! Solution: go with the standard compression stocking, 20-30, stock #114622. Excellent support, stays up and gives me what I need. Both pair of these also tore as I struggled to pull them up all the time. Good riddance/bad investment! '\n",
    "remove_punc(s)"
   ]
  },
  {
   "cell_type": "code",
   "execution_count": 376,
   "metadata": {},
   "outputs": [
    {
     "data": {
      "text/plain": [
       "'This model may be ok for sedentary types but Im active and get around alot in my job  consistently found these stockings rolled up down by my ankles Not Good Solution go with the standard compression stocking  stock  Excellent support stays up and gives me what I need Both pair of these also tore as I struggled to pull them up all the time Good riddancebad investment '"
      ]
     },
     "execution_count": 376,
     "metadata": {},
     "output_type": "execute_result"
    }
   ],
   "source": [
    "def remove_nums(text):\n",
    "    result_text = ''.join([i for i in text if not i.isdigit()])\n",
    "    return result_text\n",
    "\n",
    "remove_nums(remove_punc(s))"
   ]
  },
  {
   "cell_type": "code",
   "execution_count": 377,
   "metadata": {},
   "outputs": [
    {
     "data": {
      "text/plain": [
       "'This model may be ok for sedentary types but Im active and get around alot in my job consistently found these stockings rolled up down by my ankles Not Good Solution go with the standard compression stocking stock Excellent support stays up and gives me what I need Both pair of these also tore as I struggled to pull them up all the time Good riddancebad investment '"
      ]
     },
     "execution_count": 377,
     "metadata": {},
     "output_type": "execute_result"
    }
   ],
   "source": [
    "import re\n",
    "def remove_spaces(text):\n",
    "    result_text = re.sub(' +', ' ', text)\n",
    "    return result_text\n",
    "\n",
    "remove_spaces(remove_nums(remove_punc(s)))"
   ]
  },
  {
   "cell_type": "code",
   "execution_count": 378,
   "metadata": {},
   "outputs": [
    {
     "data": {
      "text/plain": [
       "'this model may be ok for sedentary types but im active and get around alot in my job consistently found these stockings rolled up down by my ankles not good solution go with the standard compression stocking stock excellent support stays up and gives me what i need both pair of these also tore as i struggled to pull them up all the time good riddancebad investment '"
      ]
     },
     "execution_count": 378,
     "metadata": {},
     "output_type": "execute_result"
    }
   ],
   "source": [
    "remove_spaces(remove_nums(remove_punc(s))).lower()"
   ]
  },
  {
   "cell_type": "code",
   "execution_count": 379,
   "metadata": {},
   "outputs": [
    {
     "data": {
      "text/plain": [
       "'model ok sedentary types m active alot job consistently found stockings rolled ankles good solution standard compression stocking stock excellent support stays gives need pair tore struggled pull time good riddancebad investment'"
      ]
     },
     "execution_count": 379,
     "metadata": {},
     "output_type": "execute_result"
    }
   ],
   "source": [
    "def remove_stop_words(text):\n",
    "    \n",
    "    nlp = spacy.load('en_core_web_sm')\n",
    "    text_list = nlp(text)\n",
    "    \n",
    "#     stop_list = ['a', 'an', 'and', 'are', 'as', 'at', 'be', 'but', 'by', 'for', 'if', 'in', 'into', 'is', 'it', 'no', 'not',\n",
    "#                  'of', 'on', 'or', 'such', 'that', 'the', 'their', 'then', 'there', 'these', 'they', 'this', 'to', 'was', \n",
    "#                  'will', 'with']\n",
    "    \n",
    "    temp_list = []\n",
    "    for token in text_list:\n",
    "        if not token.is_stop:\n",
    "            temp_list.append(token)\n",
    "    \n",
    "    str_output = ' '.join([str(elem) for elem in temp_list])\n",
    "    return str_output\n",
    "#     return temp_list\n",
    "    \n",
    "    \n",
    "remove_stop_words(remove_spaces(remove_nums(remove_punc(s))).lower())"
   ]
  },
  {
   "cell_type": "markdown",
   "metadata": {},
   "source": [
    "### Def preprocess\n",
    "    # output list = []\n",
    "    # for element in row\n",
    "        # text = row's text\n",
    "        # output text = remove_punctuation(text)\n",
    "        # output text = remove_numbers(output text)\n",
    "        # output text = lowercase(output text)\n",
    "        # output text = remove_stop words(output text)\n",
    "        # output list.append(output text )\n",
    "    # return output list "
   ]
  },
  {
   "cell_type": "code",
   "execution_count": 191,
   "metadata": {},
   "outputs": [],
   "source": [
    "def process_column(unprocessed_list):\n",
    "    output_list = []\n",
    "    count = 0\n",
    "    for item in unprocessed_list:\n",
    "        if item != ' ':            \n",
    "            output_list.append( remove_nums(remove_punc(remove_stop_words(item))).lower()  )\n",
    "        else:\n",
    "            output_list.append(' ')\n",
    "        \n",
    "        count += 1\n",
    "        \n",
    "        if count % 100 == 0:\n",
    "            print(count)\n",
    "        \n",
    "    return output_list\n"
   ]
  },
  {
   "cell_type": "code",
   "execution_count": 192,
   "metadata": {
    "collapsed": true
   },
   "outputs": [
    {
     "name": "stdout",
     "output_type": "stream",
     "text": [
      "10\n",
      "20\n",
      "30\n",
      "40\n",
      "50\n",
      "60\n",
      "70\n",
      "80\n",
      "90\n",
      "100\n",
      "110\n",
      "120\n",
      "130\n",
      "140\n",
      "150\n",
      "160\n",
      "170\n",
      "180\n",
      "190\n",
      "200\n",
      "210\n",
      "220\n",
      "230\n",
      "240\n",
      "250\n",
      "260\n",
      "270\n",
      "280\n",
      "290\n",
      "300\n",
      "310\n",
      "320\n",
      "330\n",
      "340\n",
      "350\n",
      "360\n",
      "370\n",
      "380\n",
      "390\n",
      "400\n",
      "410\n",
      "420\n",
      "430\n",
      "440\n",
      "450\n",
      "460\n",
      "470\n",
      "480\n",
      "490\n",
      "500\n",
      "510\n",
      "520\n",
      "530\n",
      "540\n",
      "550\n",
      "560\n",
      "570\n",
      "580\n",
      "590\n",
      "600\n",
      "610\n",
      "620\n",
      "630\n",
      "640\n",
      "650\n",
      "660\n",
      "670\n",
      "680\n",
      "690\n",
      "700\n",
      "710\n",
      "720\n",
      "730\n",
      "740\n",
      "750\n",
      "760\n",
      "770\n",
      "780\n",
      "790\n",
      "800\n",
      "810\n",
      "820\n",
      "830\n",
      "840\n",
      "850\n",
      "860\n",
      "870\n",
      "880\n",
      "890\n",
      "900\n",
      "910\n",
      "920\n",
      "930\n",
      "940\n",
      "950\n",
      "960\n",
      "970\n",
      "980\n",
      "990\n",
      "1000\n",
      "1010\n",
      "1020\n",
      "1030\n",
      "1040\n",
      "1050\n",
      "1060\n",
      "1070\n",
      "1080\n",
      "1090\n",
      "1100\n",
      "1110\n",
      "1120\n",
      "1130\n",
      "1140\n",
      "1150\n",
      "1160\n",
      "1170\n",
      "1180\n",
      "1190\n",
      "1200\n",
      "1210\n",
      "1220\n",
      "1230\n",
      "1240\n",
      "1250\n",
      "1260\n",
      "1270\n",
      "1280\n",
      "1290\n",
      "1300\n",
      "1310\n",
      "1320\n",
      "1330\n",
      "1340\n",
      "1350\n",
      "1360\n",
      "1370\n",
      "1380\n",
      "1390\n",
      "1400\n",
      "1410\n",
      "1420\n",
      "1430\n",
      "1440\n",
      "1450\n",
      "1460\n",
      "1470\n",
      "1480\n",
      "1490\n",
      "1500\n",
      "1510\n",
      "1520\n",
      "1530\n",
      "1540\n",
      "1550\n",
      "1560\n",
      "1570\n",
      "1580\n",
      "1590\n",
      "1600\n",
      "1610\n",
      "1620\n",
      "1630\n",
      "1640\n",
      "1650\n",
      "1660\n",
      "1670\n",
      "1680\n",
      "1690\n",
      "1700\n",
      "1710\n",
      "1720\n",
      "1730\n",
      "1740\n",
      "1750\n",
      "1760\n",
      "1770\n",
      "1780\n",
      "1790\n",
      "1800\n",
      "1810\n",
      "1820\n",
      "1830\n",
      "1840\n",
      "1850\n",
      "1860\n",
      "1870\n",
      "1880\n",
      "1890\n",
      "1900\n",
      "1910\n",
      "1920\n",
      "1930\n",
      "1940\n",
      "1950\n",
      "1960\n",
      "1970\n",
      "1980\n",
      "1990\n",
      "2000\n",
      "2010\n",
      "2020\n",
      "2030\n",
      "2040\n",
      "2050\n",
      "2060\n",
      "2070\n",
      "2080\n",
      "2090\n",
      "2100\n",
      "2110\n",
      "2120\n",
      "2130\n",
      "2140\n",
      "2150\n",
      "2160\n",
      "2170\n",
      "2180\n",
      "2190\n",
      "2200\n",
      "2210\n",
      "2220\n",
      "2230\n",
      "2240\n",
      "2250\n",
      "2260\n",
      "2270\n",
      "2280\n",
      "2290\n",
      "2300\n",
      "2310\n",
      "2320\n",
      "2330\n",
      "2340\n",
      "2350\n",
      "2360\n",
      "2370\n",
      "2380\n",
      "2390\n",
      "2400\n",
      "2410\n",
      "2420\n",
      "2430\n",
      "2440\n",
      "2450\n",
      "2460\n",
      "2470\n",
      "2480\n",
      "2490\n",
      "2500\n",
      "0:27:24.527485\n"
     ]
    }
   ],
   "source": [
    "import datetime\n",
    "start_time = datetime.datetime.now()\n",
    "\n",
    "\n",
    "test_raw_reviews = testing_df['Review'].tolist()\n",
    "test_processed_reviews = process_column(test_raw_reviews[:2500])\n",
    "\n",
    "\n",
    "\n",
    "\n",
    "end_time = datetime.datetime.now()\n",
    "print(end_time - start_time)\n",
    "\n",
    "\n",
    "# test_processed_reviews"
   ]
  },
  {
   "cell_type": "code",
   "execution_count": 390,
   "metadata": {},
   "outputs": [
    {
     "name": "stdout",
     "output_type": "stream",
     "text": [
      "---------- Review 1 ----------\n",
      "Raw:  This model may be ok for sedentary types, but I'm active and get around alot in my job - consistently found these stockings rolled up down by my ankles! Not Good!! Solution: go with the standard compression stocking, 20-30, stock #114622. Excellent support, stays up and gives me what I need. Both pair of these also tore as I struggled to pull them up all the time. Good riddance/bad investment! \n",
      "\n",
      "\n",
      "Processed:  model ok sedentary types  active alot job  consistently found stockings rolled ankles  good   solution  standard compression stocking      stock    excellent support  stays gives need  pair tore struggled pull time  good riddance  bad investment \n",
      "\n",
      "\n",
      "---------- Review 2 ----------\n",
      "Raw:  I bought one of these chargers..the instructions say the lights stay on while the battery charges...true. The instructions doNT say the lights turn off when its done. Which is also true. 24 hours of charging and the lights stay on. I returned it thinking I had a bad unit.The new one did the same thing. I just kept it since it does charge...but the lights are useless since they seem to always stay on. It's a \"backup\" charger for when I manage to drain all my AAs but I wouldn't want this as my only charger. \n",
      "\n",
      "\n",
      "Processed:  bought chargers  instructions lights stay battery charges  true  instructions dont lights turn  true   hours charging lights stay  returned thinking bad unit  new thing  kept charge  lights useless stay   backup  charger manage drain aas want charger \n"
     ]
    }
   ],
   "source": [
    "print('---------- Review 1 ----------')\n",
    "print('Raw: ', test_raw_reviews[0], '\\n\\n')\n",
    "print('Processed: ', test_processed_reviews[0])\n",
    "print('\\n')\n",
    "print('---------- Review 2 ----------')\n",
    "print('Raw: ', test_raw_reviews[2], '\\n\\n')\n",
    "print('Processed: ', test_processed_reviews[2])"
   ]
  },
  {
   "cell_type": "code",
   "execution_count": 391,
   "metadata": {},
   "outputs": [],
   "source": [
    "# t0 = training_df['Review'].loc[0]\n",
    "# t1 = training_df['Review'].loc[1]\n",
    "# t2 = training_df['Review'].loc[2]\n",
    "# t3 = training_df['Review'].loc[3]\n",
    "# t4 = training_df['Review'].loc[4]\n",
    "\n",
    "\n",
    "# nlp = spacy.load('en_core_web_sm')\n",
    "# doc = nlp(t0)\n",
    "\n",
    "# token_list = []\n",
    "# for token in doc:\n",
    "#     #remove stop words\n",
    "#     token_list.append(token)\n",
    "\n",
    "# token_list"
   ]
  },
  {
   "cell_type": "code",
   "execution_count": 392,
   "metadata": {},
   "outputs": [],
   "source": [
    "# filtered_token_list = []\n",
    "# for token in token_list:\n",
    "#     if not token.is_stop:\n",
    "#         filtered_token_list.append(token)\n",
    "        \n",
    "# filtered_token_list"
   ]
  },
  {
   "cell_type": "markdown",
   "metadata": {},
   "source": [
    "# 3: Normalization\n",
    "- Stemming vs Lemmatization\n",
    "- Normalize each element in 'reviews' "
   ]
  },
  {
   "cell_type": "code",
   "execution_count": 394,
   "metadata": {},
   "outputs": [],
   "source": [
    "#TBD - Current version is unnormalized "
   ]
  },
  {
   "cell_type": "markdown",
   "metadata": {},
   "source": [
    "# 4: Vectorization\n",
    "- Vectorize each token of 'reviews' \n",
    "- Save vectorized reviews data"
   ]
  },
  {
   "cell_type": "code",
   "execution_count": 195,
   "metadata": {},
   "outputs": [
    {
     "name": "stdout",
     "output_type": "stream",
     "text": [
      "only first 2,500 samples of validation data\n"
     ]
    },
    {
     "data": {
      "text/html": [
       "<div>\n",
       "<style scoped>\n",
       "    .dataframe tbody tr th:only-of-type {\n",
       "        vertical-align: middle;\n",
       "    }\n",
       "\n",
       "    .dataframe tbody tr th {\n",
       "        vertical-align: top;\n",
       "    }\n",
       "\n",
       "    .dataframe thead th {\n",
       "        text-align: right;\n",
       "    }\n",
       "</style>\n",
       "<table border=\"1\" class=\"dataframe\">\n",
       "  <thead>\n",
       "    <tr style=\"text-align: right;\">\n",
       "      <th></th>\n",
       "      <th>Targets</th>\n",
       "      <th>Processed Text</th>\n",
       "    </tr>\n",
       "  </thead>\n",
       "  <tbody>\n",
       "    <tr>\n",
       "      <th>0</th>\n",
       "      <td>1</td>\n",
       "      <td>model ok sedentary types  active alot job  con...</td>\n",
       "    </tr>\n",
       "    <tr>\n",
       "      <th>1</th>\n",
       "      <td>4</td>\n",
       "      <td>fast read filled unexpected humour profound in...</td>\n",
       "    </tr>\n",
       "    <tr>\n",
       "      <th>2</th>\n",
       "      <td>2</td>\n",
       "      <td>bought chargers  instructions lights stay batt...</td>\n",
       "    </tr>\n",
       "    <tr>\n",
       "      <th>3</th>\n",
       "      <td>2</td>\n",
       "      <td>excited find book ostensibly muslim feminism  ...</td>\n",
       "    </tr>\n",
       "    <tr>\n",
       "      <th>4</th>\n",
       "      <td>2</td>\n",
       "      <td>big jvc fan  like model  suspiscious saw units...</td>\n",
       "    </tr>\n",
       "  </tbody>\n",
       "</table>\n",
       "</div>"
      ],
      "text/plain": [
       "   Targets                                     Processed Text\n",
       "0        1  model ok sedentary types  active alot job  con...\n",
       "1        4  fast read filled unexpected humour profound in...\n",
       "2        2  bought chargers  instructions lights stay batt...\n",
       "3        2  excited find book ostensibly muslim feminism  ...\n",
       "4        2  big jvc fan  like model  suspiscious saw units..."
      ]
     },
     "execution_count": 195,
     "metadata": {},
     "output_type": "execute_result"
    }
   ],
   "source": [
    "sample_df = pd.DataFrame()\n",
    "sample_df['Targets'] = testing_df['Rating'].tolist()[:2500]\n",
    "sample_df['Processed Text'] = test_processed_reviews\n",
    "print(\"only first 2,500 samples of validation data\")\n",
    "sample_df.head()"
   ]
  },
  {
   "cell_type": "code",
   "execution_count": 199,
   "metadata": {},
   "outputs": [],
   "source": [
    "from keras.preprocessing.text import Tokenizer\n",
    "from keras.preprocessing.sequence import pad_sequences\n",
    "\n",
    "tokenizer = Tokenizer(num_words=5000, split=\" \")\n",
    "tokenizer.fit_on_texts(sample_df['Processed Text'].values)\n",
    "\n",
    "X = tokenizer.texts_to_sequences(sample_df['Processed Text'].values)\n",
    "X = pad_sequences(X) # padding our text vector so they all have the same length\n",
    "\n",
    "y = sample_df['Targets'].tolist()"
   ]
  },
  {
   "cell_type": "code",
   "execution_count": 226,
   "metadata": {
    "scrolled": true
   },
   "outputs": [
    {
     "data": {
      "text/plain": [
       "array([[1, 0, 0, 0, 0],\n",
       "       [0, 0, 0, 1, 0],\n",
       "       [0, 1, 0, 0, 0],\n",
       "       ...,\n",
       "       [0, 0, 1, 0, 0],\n",
       "       [0, 0, 0, 1, 0],\n",
       "       [0, 0, 0, 1, 0]], dtype=uint8)"
      ]
     },
     "execution_count": 226,
     "metadata": {},
     "output_type": "execute_result"
    }
   ],
   "source": [
    "y = pd.get_dummies(sample_df['Targets']).values\n",
    "# [print(sample_df['Targets'][i], y[i]) for i in range(0,15)]\n",
    "y"
   ]
  },
  {
   "cell_type": "markdown",
   "metadata": {},
   "source": [
    "# 5: Classification\n",
    "- Create classifier for vectorized data\n",
    "- TensorFlow (Google, more DIY, more customizable/complex, bit more powerful with steeper learning curve)\n",
    "- PyTorch (Facebook's version of TF, comperable to tf, apparently it's slightly easier to pick up)\n",
    "- Scikit Learn (Extremely simple in comparison to tf and pytorch) \n",
    "- spaCy also has a text classifier if we want to use that \n",
    "- \n",
    "    #### 5.1\n",
    "    - Split into training/test sets\n",
    "    - Likely 80/20\n",
    "- \n",
    "    #### 5.2\n",
    "    - Model selection\n",
    "- \n",
    "    #### 5.3\n",
    "    - Train model\n",
    "- \n",
    "    #### 5.4\n",
    "    - Evaluate performance\n",
    "- \n",
    "    #### 5.5\n",
    "    - Tweak parameters\n",
    "    - Potentially include hyperparameters\n",
    "- \n",
    "    #### 5.6\n",
    "    - Generate predictions\n",
    "    - Vector from (-1.0, 1.0)"
   ]
  },
  {
   "cell_type": "code",
   "execution_count": 227,
   "metadata": {},
   "outputs": [],
   "source": [
    "from sklearn.model_selection import train_test_split\n",
    "\n",
    "X_train, X_test, y_train, y_test = train_test_split(X, y, test_size=0.2, random_state=0)\n"
   ]
  },
  {
   "cell_type": "code",
   "execution_count": 228,
   "metadata": {},
   "outputs": [
    {
     "name": "stdout",
     "output_type": "stream",
     "text": [
      "Model: \"sequential_3\"\n",
      "_________________________________________________________________\n",
      "Layer (type)                 Output Shape              Param #   \n",
      "=================================================================\n",
      "embedding_3 (Embedding)      (None, 77, 256)           1280000   \n",
      "_________________________________________________________________\n",
      "dropout_3 (Dropout)          (None, 77, 256)           0         \n",
      "_________________________________________________________________\n",
      "lstm_6 (LSTM)                (None, 77, 256)           525312    \n",
      "_________________________________________________________________\n",
      "lstm_7 (LSTM)                (None, 256)               525312    \n",
      "_________________________________________________________________\n",
      "dense_3 (Dense)              (None, 5)                 1285      \n",
      "=================================================================\n",
      "Total params: 2,331,909\n",
      "Trainable params: 2,331,909\n",
      "Non-trainable params: 0\n",
      "_________________________________________________________________\n"
     ]
    }
   ],
   "source": [
    "from keras.models import Sequential, load_model\n",
    "from keras.layers import Dense, LSTM, Embedding, Dropout\n",
    "\n",
    "model = Sequential()\n",
    "model.add(Embedding(5000, 256, input_length=X.shape[1]))\n",
    "model.add(Dropout(0.3))\n",
    "model.add(LSTM(256, return_sequences=True, dropout=0.3, recurrent_dropout=0.2))\n",
    "model.add(LSTM(256, dropout=0.3, recurrent_dropout=0.2))\n",
    "model.add(Dense(5, activation='softmax'))\n",
    "\n",
    "\n",
    "model.compile(loss='categorical_crossentropy', optimizer='adam', metrics=['accuracy'])\n",
    "model.summary()"
   ]
  },
  {
   "cell_type": "code",
   "execution_count": 231,
   "metadata": {},
   "outputs": [
    {
     "data": {
      "text/plain": [
       "(2000, 5)"
      ]
     },
     "execution_count": 231,
     "metadata": {},
     "output_type": "execute_result"
    }
   ],
   "source": [
    "# y_train.shape\n",
    "# X_train.shape"
   ]
  },
  {
   "cell_type": "code",
   "execution_count": 232,
   "metadata": {},
   "outputs": [
    {
     "name": "stdout",
     "output_type": "stream",
     "text": [
      "Epoch 1/3\n",
      "20/20 - 77s - loss: 1.6072 - accuracy: 0.2185\n",
      "Epoch 2/3\n",
      "20/20 - 74s - loss: 1.5129 - accuracy: 0.3670\n",
      "Epoch 3/3\n",
      "20/20 - 75s - loss: 1.1930 - accuracy: 0.5060\n"
     ]
    },
    {
     "data": {
      "text/plain": [
       "<tensorflow.python.keras.callbacks.History at 0x1d73d76b670>"
      ]
     },
     "execution_count": 232,
     "metadata": {},
     "output_type": "execute_result"
    }
   ],
   "source": [
    "batch_size = 125\n",
    "epochs = 5\n",
    "\n",
    "model.fit(X_train, y_train, epochs=epochs, batch_size=batch_size, verbose=2)"
   ]
  },
  {
   "cell_type": "code",
   "execution_count": 397,
   "metadata": {},
   "outputs": [
    {
     "name": "stdout",
     "output_type": "stream",
     "text": [
      "Text:  model ok sedentary types  active alot job  consistently found stockings rolled ankles  good   solution  standard compression stocking      stock    excellent support  stays gives need  pair tore struggled pull time  good riddance  bad investment  \n",
      "Predicted Output:  [0.03223629 0.06839251 0.2425516  0.38293523 0.2738844 ] \n",
      "True Classification:  [0 0 1 0 0] \n",
      "\n",
      "\n",
      "Text:  fast read filled unexpected humour profound insights art politics policy  brief  sly  wry  wise  \n",
      "Predicted Output:  [0.02207217 0.03374951 0.10841644 0.34386837 0.4918935 ] \n",
      "True Classification:  [0 0 0 1 0] \n",
      "\n",
      "\n",
      "Text:  bought chargers  instructions lights stay battery charges  true  instructions dont lights turn  true   hours charging lights stay  returned thinking bad unit  new thing  kept charge  lights useless stay   backup  charger manage drain aas want charger  \n",
      "Predicted Output:  [0.03862078 0.07708392 0.20740391 0.37580746 0.30108395] \n",
      "True Classification:  [0 0 0 0 1] \n",
      "\n",
      "\n",
      "Text:  excited find book ostensibly muslim feminism  volume live expectations  essay  things  describes veil potentially liberating  begin explain   muslim women cape town  claims muslim women separate  equal   gee whiz  disappointment  expected hoped muslim feminist condemnation gender apartheid  single book  im surprised essay extolling virtues female genital mutilationalyssa a lappen \n",
      "Predicted Output:  [0.0935574  0.29737538 0.34316087 0.1846015  0.08130486] \n",
      "True Classification:  [0 0 1 0 0] \n",
      "\n",
      "\n",
      "Text:  big jvc fan  like model  suspiscious saw units return section store  bought  new  happy  unit sends clicks receiver  transition scenes smoothlike little pause  fairly new dvd  cd dvd headcleaner work   incorrect disc  message  \n",
      "Predicted Output:  [0.24968486 0.23518379 0.17899185 0.17126518 0.16487427] \n",
      "True Classification:  [1 0 0 0 0] \n",
      "\n",
      "\n",
      "Text:  love style  couple years  dvd giving problems  work anymore use broken ps  recommend  going upgrade recorder  wish work guess giving jvc  like  stopped working  dvd player gave problems probably year having  \n",
      "Predicted Output:  [0.14216374 0.08526649 0.09687962 0.20248334 0.47320676] \n",
      "True Classification:  [0 1 0 0 0] \n",
      "\n",
      "\n",
      "Text:  scroll dvd menu set vertically  triangle keys select horizontally  select dvd play  special features  language select   play  \n",
      "Predicted Output:  [0.09964371 0.27341703 0.2410864  0.2163603  0.16949259] \n",
      "True Classification:  [0 1 0 0 0] \n",
      "\n",
      "\n",
      "Text:  movie animals keeps grandson occupied babysitting  loves watching  accomplished gets bored   worth money  matter fact  buying house   y  o cousins  house  saying goodbye netflix  way amazongammy \n",
      "Predicted Output:  [0.08074968 0.15272208 0.23130769 0.28513426 0.25008628] \n",
      "True Classification:  [0 0 0 0 1] \n",
      "\n",
      "\n",
      "Text:  found copy cookbook local book store mixed sourdough starter following day  bubbling away morning wait try days  directions book simple follow  anecdotes history provided entertaining  recipes sound delicious  working way  starting course sourdough hotcakes bread  handwritten format adds charm book  interested learning sourdoughs  book information need  \n",
      "Predicted Output:  [0.03170212 0.12673375 0.32204077 0.3516096  0.16791375] \n",
      "True Classification:  [0 0 0 1 0] \n",
      "\n",
      "\n",
      "Text:  book basic   book sourdough  author obviously lots experience cooking sourdough starter  loved recipes  search internet  \n",
      "Predicted Output:  [0.01768685 0.04634464 0.24691439 0.41189107 0.2771631 ] \n",
      "True Classification:  [0 0 0 1 0] \n",
      "\n",
      "\n"
     ]
    },
    {
     "data": {
      "text/plain": [
       "[None, None, None, None, None, None, None, None, None, None]"
      ]
     },
     "execution_count": 397,
     "metadata": {},
     "output_type": "execute_result"
    }
   ],
   "source": [
    "predictions = model.predict(X_test)\n",
    "\n",
    "[print('Text: ', sample_df['Processed Text'][i], '\\nPredicted Output: ', predictions[i], '\\nTrue Classification: ', y_test[i], '\\n\\n') for i in range(0, 10)]"
   ]
  },
  {
   "cell_type": "code",
   "execution_count": 234,
   "metadata": {},
   "outputs": [
    {
     "data": {
      "text/plain": [
       "array([[0.03223629, 0.06839251, 0.2425516 , 0.38293523, 0.2738844 ],\n",
       "       [0.02207217, 0.03374951, 0.10841644, 0.34386837, 0.4918935 ],\n",
       "       [0.03862078, 0.07708392, 0.20740391, 0.37580746, 0.30108395],\n",
       "       ...,\n",
       "       [0.02664071, 0.03809747, 0.1200909 , 0.34041306, 0.47475782],\n",
       "       [0.06507093, 0.09555285, 0.2698277 , 0.3198997 , 0.24964885],\n",
       "       [0.19878137, 0.2134793 , 0.16600882, 0.1972839 , 0.2244466 ]],\n",
       "      dtype=float32)"
      ]
     },
     "execution_count": 234,
     "metadata": {},
     "output_type": "execute_result"
    }
   ],
   "source": [
    "predictions"
   ]
  },
  {
   "cell_type": "markdown",
   "metadata": {},
   "source": [
    "# Evaluate with sample review"
   ]
  },
  {
   "cell_type": "code",
   "execution_count": 353,
   "metadata": {},
   "outputs": [
    {
     "data": {
      "text/plain": [
       "'I absolutley love this product, it is everything that I expected. The quality is unbeatable for the price. This product is amazing. I could not reccomend this product more!'"
      ]
     },
     "execution_count": 353,
     "metadata": {},
     "output_type": "execute_result"
    }
   ],
   "source": [
    "# dummy_review = 'This is the best water bottle I have ever used. I love that it is BPA free and great on the environment. I think that everyone who is looking for a good water bottle should buy this one, it is absolutley perfect and totally what I am looking for. I love it!'\n",
    "dummy_review = 'I absolutley love this product, it is everything that I expected. The quality is unbeatable for the price. This product is amazing. I could not reccomend this product more!'\n",
    "dummy_review"
   ]
  },
  {
   "cell_type": "code",
   "execution_count": 354,
   "metadata": {},
   "outputs": [
    {
     "data": {
      "text/plain": [
       "['absolutley love product  expected  quality unbeatable price  product amazing  reccomend product ']"
      ]
     },
     "execution_count": 354,
     "metadata": {},
     "output_type": "execute_result"
    }
   ],
   "source": [
    "dummy_processed = [remove_nums(remove_punc(remove_stop_words(dummy_review))).lower()]\n",
    "dummy_processed"
   ]
  },
  {
   "cell_type": "code",
   "execution_count": 355,
   "metadata": {},
   "outputs": [
    {
     "data": {
      "text/plain": [
       "(1, 77)"
      ]
     },
     "execution_count": 355,
     "metadata": {},
     "output_type": "execute_result"
    }
   ],
   "source": [
    "#Reshape to correct input size \n",
    "\n",
    "dummy_vectorized = tokenizer.texts_to_sequences(dummy_processed)\n",
    "dummy_vectorized = np.concatenate( ( np.zeros((1, (len(X[0]) - len(dummy_vectorized[0]))))[0]  , (dummy_vectorized[0]) )  )\n",
    "dummy_vectorized = np.asarray(dummy_vectorized)\n",
    "dummy_vectorized = np.expand_dims(dummy_vectorized, axis = 0)\n",
    "dummy_vectorized.shape"
   ]
  },
  {
   "cell_type": "code",
   "execution_count": 356,
   "metadata": {},
   "outputs": [
    {
     "data": {
      "text/plain": [
       "array([[0.06943715, 0.05383236, 0.11278591, 0.26849952, 0.49544504]],\n",
       "      dtype=float32)"
      ]
     },
     "execution_count": 356,
     "metadata": {},
     "output_type": "execute_result"
    }
   ],
   "source": [
    "model.predict(dummy_vectorized)"
   ]
  },
  {
   "cell_type": "markdown",
   "metadata": {},
   "source": []
  }
 ],
 "metadata": {
  "kernelspec": {
   "display_name": "Python 3",
   "language": "python",
   "name": "python3"
  },
  "language_info": {
   "codemirror_mode": {
    "name": "ipython",
    "version": 3
   },
   "file_extension": ".py",
   "mimetype": "text/x-python",
   "name": "python",
   "nbconvert_exporter": "python",
   "pygments_lexer": "ipython3",
   "version": "3.8.1"
  }
 },
 "nbformat": 4,
 "nbformat_minor": 4
}
